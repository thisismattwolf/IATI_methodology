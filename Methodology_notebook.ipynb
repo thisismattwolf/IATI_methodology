{
 "cells": [
  {
   "cell_type": "markdown",
   "metadata": {},
   "source": [
    "## Methodology for ANDE Report on Donor Contributions to SGBs   "
   ]
  },
  {
   "cell_type": "markdown",
   "metadata": {},
   "source": [
    "## 1. Preparing the data"
   ]
  },
  {
   "cell_type": "markdown",
   "metadata": {},
   "source": [
    "This notebook is intended to demonstrate the methodology used by the Devex Analytics team to arrive at total figures for funding channeled by 20 different donor institutions to the \"thematic area\" of *entrepreneurship and small-and-growing businesses*. \n",
    "\n",
    "The methodology uses data from the International Aid Transparency Initiative (IATI). The final figures in the Devex report summed the figures from this methodology, as well as other figures found through additional desk research. Thus this methodology does not represent a complete data collection process. However, the code and descriptions here illustrate well the process followed for IATI data, and the human decisions made about how to analyse that data. \n",
    "\n",
    "Note that some donors are consistent, high-quality contributors of IATI data, while others contribute less frequently or less detailed data, and others do not contribute data at all to IATI. For donors that do *not* consistently contribute quality data to IATI, additional collection, processing, and analysis will be required."
   ]
  },
  {
   "cell_type": "code",
   "execution_count": 1,
   "metadata": {
    "collapsed": true
   },
   "outputs": [],
   "source": [
    "# Importing the needed libraries\n",
    "import pandas as pd\n",
    "import numpy as np"
   ]
  },
  {
   "cell_type": "markdown",
   "metadata": {},
   "source": [
    "Let's import the data. First - there are generally 56 columns of data in a IATI activities datafile. We only want some of them:"
   ]
  },
  {
   "cell_type": "code",
   "execution_count": 2,
   "metadata": {
    "collapsed": true
   },
   "outputs": [],
   "source": [
    "iati_fields = ['iati-identifier','reporting-org','default-language', 'title','description','start-planned','end-planned',\\\n",
    "               'start-actual', 'end-actual','recipient-country-code','recipient-country', 'recipient-country-percentage',\\\n",
    "               'sector','sector-code', 'sector-percentage','sector-vocabulary','sector-vocabulary-code', 'default-currency',\\\n",
    "               'total-Commitment','total-Disbursement','total-Expenditure']\n",
    "date_fields = ['start-planned','end-planned','start-actual','end-actual']"
   ]
  },
  {
   "cell_type": "markdown",
   "metadata": {},
   "source": [
    "We'll use this to only import 21 columns relevant to our analysis. We'll specify which fields are dates so we can upload them in the useful *datetime* data type.\n",
    "\n",
    "I've downloaded large csv files from donors who are good IATI contributors - the World Bank, DFID, Sida, the Gates Foundation, EuropeAid (Devco), Global Affairs Canada, the Global Fund, and the Ministry of Foreign Affairs of the Netherlands. In the future, we'll want to replace these calls to CSVs with a request to IATI's API. "
   ]
  },
  {
   "cell_type": "code",
   "execution_count": 3,
   "metadata": {
    "collapsed": true
   },
   "outputs": [],
   "source": [
    "# NB! Replace the read_csv commands with IATI API query in the future\n",
    "wbg_raw = pd.read_csv('WBG_IATI_Activities_20190315.csv', low_memory=False, usecols=iati_fields, parse_dates=date_fields)\n",
    "dfid_raw = pd.read_csv('DFID_IATI_Activities_20190315.csv', low_memory=False, usecols=iati_fields, parse_dates=date_fields)\n",
    "sida_raw = pd.read_csv('SIDA_IATI_Activities_20190315.csv', low_memory=False, usecols=iati_fields, parse_dates=date_fields)\n",
    "bmgf_raw = pd.read_csv('BMGF_IATI_Activities_20190315.csv', low_memory=False, usecols=iati_fields, parse_dates=date_fields)\n",
    "devco_raw = pd.read_csv('DEVCO_IATI_Activities_20190315.csv', low_memory=False, usecols=iati_fields, parse_dates=date_fields)\n",
    "gac_raw = pd.read_csv('GAC_IATI_Activities_20190315.csv', low_memory=False, usecols=iati_fields, parse_dates=date_fields)\n",
    "gf_raw = pd.read_csv('Global_Fund_IATI_Activities_20190315.csv', low_memory=False, usecols=iati_fields, parse_dates=date_fields)\n",
    "MFANe_raw = pd.read_csv('MFA_Netherlands_IATI_Activities_20190315.csv', low_memory=False, usecols=iati_fields, parse_dates=date_fields)\n",
    "\n",
    "dfs = [wbg_raw, dfid_raw, sida_raw, bmgf_raw, devco_raw, dfid_raw, gac_raw, gf_raw, MFANe_raw]"
   ]
  },
  {
   "cell_type": "markdown",
   "metadata": {},
   "source": [
    "Next we put the data together in a single Pandas dataframe."
   ]
  },
  {
   "cell_type": "code",
   "execution_count": 4,
   "metadata": {
    "collapsed": true
   },
   "outputs": [],
   "source": [
    "data = pd.concat(dfs, ignore_index=True, sort=False)"
   ]
  },
  {
   "cell_type": "markdown",
   "metadata": {},
   "source": [
    "Now let's see what the data looks like by seeing how many rows of data each donor contributed to the data:"
   ]
  },
  {
   "cell_type": "code",
   "execution_count": 5,
   "metadata": {},
   "outputs": [
    {
     "data": {
      "text/plain": [
       "reporting-org\n",
       "Bill and Melinda Gates Foundation                               9579\n",
       "Department for International Development                       36706\n",
       "European Commission - Development and Cooperation-EuropeAid    67158\n",
       "Foreign Affairs, Trade and Development Canada (DFATD)           4476\n",
       "Ministry of Foreign Affairs (DGIS)                              7730\n",
       "Sweden                                                         85601\n",
       "The Global Fund to Fight AIDS, Tuberculosis and Malaria         1100\n",
       "World Bank                                                      3035\n",
       "World Bank Group                                                  30\n",
       "Name: iati-identifier, dtype: int64"
      ]
     },
     "execution_count": 5,
     "metadata": {},
     "output_type": "execute_result"
    }
   ],
   "source": [
    "data.groupby(['reporting-org'])['iati-identifier'].count()"
   ]
  },
  {
   "cell_type": "code",
   "execution_count": 6,
   "metadata": {},
   "outputs": [
    {
     "data": {
      "text/plain": [
       "(215415, 21)"
      ]
     },
     "execution_count": 6,
     "metadata": {},
     "output_type": "execute_result"
    }
   ],
   "source": [
    "data.shape"
   ]
  },
  {
   "cell_type": "markdown",
   "metadata": {},
   "source": [
    "We have 21 columns and 215,415 rows of data. There are a few cosmetic changes to make: Let's check the 30 rows from the \"World Bank Group\" as opposed to the \"World Bank\", and let's change the names of the donors to the donor shortnames for readability."
   ]
  },
  {
   "cell_type": "code",
   "execution_count": 7,
   "metadata": {},
   "outputs": [
    {
     "data": {
      "text/plain": [
       "reporting-org\n",
       "B&MGF                9579\n",
       "DEVCO               67158\n",
       "DFID                36706\n",
       "GAC                  4476\n",
       "Global Fund          1100\n",
       "MFA Netherlands      7730\n",
       "Sida                85601\n",
       "World Bank           3035\n",
       "World Bank Group       30\n",
       "Name: iati-identifier, dtype: int64"
      ]
     },
     "execution_count": 7,
     "metadata": {},
     "output_type": "execute_result"
    }
   ],
   "source": [
    "# Rename donors 'reporting-org' field to their donor shortname\n",
    "data.loc[data['reporting-org'] == 'Sweden', 'reporting-org'] = 'Sida'\n",
    "data.loc[data['reporting-org'] == 'Department for International Development', 'reporting-org'] = 'DFID'\n",
    "data.loc[data['reporting-org'] == 'European Commission - Development and Cooperation-EuropeAid', 'reporting-org'] = 'DEVCO'\n",
    "data.loc[data['reporting-org'] == 'Foreign Affairs, Trade and Development Canada (DFATD)', 'reporting-org'] = 'GAC'\n",
    "data.loc[data['reporting-org'] == 'Ministry of Foreign Affairs (DGIS)', 'reporting-org'] = 'MFA Netherlands'\n",
    "data.loc[data['reporting-org'] == 'The Global Fund to Fight AIDS, Tuberculosis and Malaria', 'reporting-org'] = 'Global Fund'\n",
    "data.loc[data['reporting-org'] == 'Bill and Melinda Gates Foundation', 'reporting-org'] = 'B&MGF'\n",
    "# Let's check that it worked.\n",
    "data.groupby(['reporting-org'])['iati-identifier'].count()"
   ]
  },
  {
   "cell_type": "markdown",
   "metadata": {},
   "source": [
    "It worked - much easier to read the results of the groupby() function by donor now.\n",
    "\n",
    "Let's look at the differences between 'World Bank' and 'World Bank Group' rows now. The most important fields for our analysis will be the dates, countries, sectors, and funding commitments, so we'll look at them.\n",
    "\n",
    "In particular, for this methodology to work well, we'll need rows that denote IATI activities which are tagged with OECD sector vocabulary tags. Since there are only 30 *World Bank Group*, we can quickly look at all the rows there."
   ]
  },
  {
   "cell_type": "code",
   "execution_count": 8,
   "metadata": {
    "collapsed": true
   },
   "outputs": [],
   "source": [
    "wb_condition = data['reporting-org'] == 'World Bank'\n",
    "wbg_condition = data['reporting-org'] == 'World Bank Group'\n",
    "wb_rows = data[wb_condition].reset_index()\n",
    "wbg_rows = data[wbg_condition].reset_index()"
   ]
  },
  {
   "cell_type": "code",
   "execution_count": 9,
   "metadata": {},
   "outputs": [
    {
     "data": {
      "text/html": [
       "<div>\n",
       "<style scoped>\n",
       "    .dataframe tbody tr th:only-of-type {\n",
       "        vertical-align: middle;\n",
       "    }\n",
       "\n",
       "    .dataframe tbody tr th {\n",
       "        vertical-align: top;\n",
       "    }\n",
       "\n",
       "    .dataframe thead th {\n",
       "        text-align: right;\n",
       "    }\n",
       "</style>\n",
       "<table border=\"1\" class=\"dataframe\">\n",
       "  <thead>\n",
       "    <tr style=\"text-align: right;\">\n",
       "      <th></th>\n",
       "      <th>sector-code</th>\n",
       "      <th>sector</th>\n",
       "      <th>sector-percentage</th>\n",
       "      <th>sector-vocabulary</th>\n",
       "      <th>sector-vocabulary-code</th>\n",
       "    </tr>\n",
       "  </thead>\n",
       "  <tbody>\n",
       "    <tr>\n",
       "      <th>0</th>\n",
       "      <td>FY</td>\n",
       "      <td>NaN</td>\n",
       "      <td>100</td>\n",
       "      <td>NaN</td>\n",
       "      <td>WBSector</td>\n",
       "    </tr>\n",
       "    <tr>\n",
       "      <th>1</th>\n",
       "      <td>TH</td>\n",
       "      <td>NaN</td>\n",
       "      <td>100</td>\n",
       "      <td>NaN</td>\n",
       "      <td>WBSector</td>\n",
       "    </tr>\n",
       "    <tr>\n",
       "      <th>2</th>\n",
       "      <td>AC</td>\n",
       "      <td>NaN</td>\n",
       "      <td>100</td>\n",
       "      <td>NaN</td>\n",
       "      <td>WBSector</td>\n",
       "    </tr>\n",
       "    <tr>\n",
       "      <th>3</th>\n",
       "      <td>AI</td>\n",
       "      <td>NaN</td>\n",
       "      <td>100</td>\n",
       "      <td>NaN</td>\n",
       "      <td>WBSector</td>\n",
       "    </tr>\n",
       "    <tr>\n",
       "      <th>4</th>\n",
       "      <td>AL</td>\n",
       "      <td>NaN</td>\n",
       "      <td>100</td>\n",
       "      <td>NaN</td>\n",
       "      <td>WBSector</td>\n",
       "    </tr>\n",
       "    <tr>\n",
       "      <th>5</th>\n",
       "      <td>TY</td>\n",
       "      <td>NaN</td>\n",
       "      <td>100</td>\n",
       "      <td>NaN</td>\n",
       "      <td>WBSector</td>\n",
       "    </tr>\n",
       "    <tr>\n",
       "      <th>6</th>\n",
       "      <td>TH</td>\n",
       "      <td>NaN</td>\n",
       "      <td>100</td>\n",
       "      <td>NaN</td>\n",
       "      <td>WBSector</td>\n",
       "    </tr>\n",
       "    <tr>\n",
       "      <th>7</th>\n",
       "      <td>AA</td>\n",
       "      <td>NaN</td>\n",
       "      <td>100</td>\n",
       "      <td>NaN</td>\n",
       "      <td>WBSector</td>\n",
       "    </tr>\n",
       "    <tr>\n",
       "      <th>8</th>\n",
       "      <td>WW</td>\n",
       "      <td>NaN</td>\n",
       "      <td>100</td>\n",
       "      <td>NaN</td>\n",
       "      <td>WBSector</td>\n",
       "    </tr>\n",
       "    <tr>\n",
       "      <th>9</th>\n",
       "      <td>AL</td>\n",
       "      <td>NaN</td>\n",
       "      <td>100</td>\n",
       "      <td>NaN</td>\n",
       "      <td>WBSector</td>\n",
       "    </tr>\n",
       "    <tr>\n",
       "      <th>10</th>\n",
       "      <td>PT</td>\n",
       "      <td>NaN</td>\n",
       "      <td>100</td>\n",
       "      <td>NaN</td>\n",
       "      <td>WBSector</td>\n",
       "    </tr>\n",
       "    <tr>\n",
       "      <th>11</th>\n",
       "      <td>AA</td>\n",
       "      <td>NaN</td>\n",
       "      <td>100</td>\n",
       "      <td>NaN</td>\n",
       "      <td>WBSector</td>\n",
       "    </tr>\n",
       "    <tr>\n",
       "      <th>12</th>\n",
       "      <td>EE</td>\n",
       "      <td>NaN</td>\n",
       "      <td>100</td>\n",
       "      <td>NaN</td>\n",
       "      <td>WBSector</td>\n",
       "    </tr>\n",
       "    <tr>\n",
       "      <th>13</th>\n",
       "      <td>AI</td>\n",
       "      <td>NaN</td>\n",
       "      <td>100</td>\n",
       "      <td>NaN</td>\n",
       "      <td>WBSector</td>\n",
       "    </tr>\n",
       "    <tr>\n",
       "      <th>14</th>\n",
       "      <td>AQ</td>\n",
       "      <td>NaN</td>\n",
       "      <td>100</td>\n",
       "      <td>NaN</td>\n",
       "      <td>WBSector</td>\n",
       "    </tr>\n",
       "    <tr>\n",
       "      <th>15</th>\n",
       "      <td>TV;TA;47;39;49;78</td>\n",
       "      <td>;;;;;</td>\n",
       "      <td>20;80;33;33;17;17</td>\n",
       "      <td>;;;;;</td>\n",
       "      <td>WBSector;WBSector;WBTheme;WBTheme;WBTheme;WBTheme</td>\n",
       "    </tr>\n",
       "    <tr>\n",
       "      <th>16</th>\n",
       "      <td>JA;BC;FB;WC;67;63;69;93;59</td>\n",
       "      <td>;;;;;;;;</td>\n",
       "      <td>88;10;1;1;25;25;24;13;13</td>\n",
       "      <td>;;;;;;;;</td>\n",
       "      <td>WBSector;WBSector;WBSector;WBSector;WBTheme;WB...</td>\n",
       "    </tr>\n",
       "    <tr>\n",
       "      <th>17</th>\n",
       "      <td>BC;AH;AJ;YA;AB;79;58;45;78;59</td>\n",
       "      <td>;;;;;;;;;</td>\n",
       "      <td>32;23;19;16;10;25;25;24;13;13</td>\n",
       "      <td>;;;;;;;;;</td>\n",
       "      <td>WBSector;WBSector;WBSector;WBSector;WBSector;W...</td>\n",
       "    </tr>\n",
       "    <tr>\n",
       "      <th>18</th>\n",
       "      <td>BC;JB;YZ;BH;FA;25;27;40;28;56</td>\n",
       "      <td>;;;;;;;;;</td>\n",
       "      <td>75;10;5;5;5;29;29;14;14;14</td>\n",
       "      <td>;;;;;;;;;</td>\n",
       "      <td>WBSector;WBSector;WBSector;WBSector;WBSector;W...</td>\n",
       "    </tr>\n",
       "    <tr>\n",
       "      <th>19</th>\n",
       "      <td>AI;WZ;BC;BH;85;78;79;77</td>\n",
       "      <td>;;;;;;;</td>\n",
       "      <td>75;10;10;5;29;29;28;14</td>\n",
       "      <td>;;;;;;;</td>\n",
       "      <td>WBSector;WBSector;WBSector;WBSector;WBTheme;WB...</td>\n",
       "    </tr>\n",
       "    <tr>\n",
       "      <th>20</th>\n",
       "      <td>JB;TA;56;78;76;58</td>\n",
       "      <td>;;;;;</td>\n",
       "      <td>50;50;33;33;17;17</td>\n",
       "      <td>;;;;;</td>\n",
       "      <td>WBSector;WBSector;WBTheme;WBTheme;WBTheme;WBTheme</td>\n",
       "    </tr>\n",
       "    <tr>\n",
       "      <th>21</th>\n",
       "      <td>CT;BC;CA;CD;25;30;39;34;40</td>\n",
       "      <td>;;;;;;;;</td>\n",
       "      <td>65;23;10;2;25;25;24;13;13</td>\n",
       "      <td>;;;;;;;;</td>\n",
       "      <td>WBSector;WBSector;WBSector;WBSector;WBTheme;WB...</td>\n",
       "    </tr>\n",
       "    <tr>\n",
       "      <th>22</th>\n",
       "      <td>BC;49;39;25;28</td>\n",
       "      <td>;;;;</td>\n",
       "      <td>100;33;33;17;17</td>\n",
       "      <td>;;;;</td>\n",
       "      <td>WBSector;WBTheme;WBTheme;WBTheme;WBTheme</td>\n",
       "    </tr>\n",
       "    <tr>\n",
       "      <th>23</th>\n",
       "      <td>BC;BH;27;25;30;59;50</td>\n",
       "      <td>;;;;;;</td>\n",
       "      <td>96;4;33;17;17;17;16</td>\n",
       "      <td>;;;;;;</td>\n",
       "      <td>WBSector;WBSector;WBTheme;WBTheme;WBTheme;WBTh...</td>\n",
       "    </tr>\n",
       "    <tr>\n",
       "      <th>24</th>\n",
       "      <td>WZ;BH;TA;BC;71;74;73;84;83</td>\n",
       "      <td>;;;;;;;;</td>\n",
       "      <td>40;35;24;1;25;25;24;13;13</td>\n",
       "      <td>;;;;;;;;</td>\n",
       "      <td>WBSector;WBSector;WBSector;WBSector;WBTheme;WB...</td>\n",
       "    </tr>\n",
       "    <tr>\n",
       "      <th>25</th>\n",
       "      <td>FD;44;58</td>\n",
       "      <td>;;</td>\n",
       "      <td>100;50;50</td>\n",
       "      <td>;;</td>\n",
       "      <td>WBSector;WBTheme;WBTheme</td>\n",
       "    </tr>\n",
       "    <tr>\n",
       "      <th>26</th>\n",
       "      <td>LD;WZ;TZ;YZ;BC;40;39;44</td>\n",
       "      <td>;;;;;;;</td>\n",
       "      <td>30;27;25;13;5;40;40;20</td>\n",
       "      <td>;;;;;;;</td>\n",
       "      <td>WBSector;WBSector;WBSector;WBSector;WBSector;W...</td>\n",
       "    </tr>\n",
       "    <tr>\n",
       "      <th>27</th>\n",
       "      <td>BC;BH;25</td>\n",
       "      <td>;;</td>\n",
       "      <td>90;10;100</td>\n",
       "      <td>;;</td>\n",
       "      <td>WBSector;WBSector;WBTheme</td>\n",
       "    </tr>\n",
       "    <tr>\n",
       "      <th>28</th>\n",
       "      <td>BZ;AZ;JA;WB;JB;64;52;78;67;84</td>\n",
       "      <td>;;;;;;;;;</td>\n",
       "      <td>68;16;12;3;1;25;25;24;13;13</td>\n",
       "      <td>;;;;;;;;;</td>\n",
       "      <td>WBSector;WBSector;WBSector;WBSector;WBSector;W...</td>\n",
       "    </tr>\n",
       "    <tr>\n",
       "      <th>29</th>\n",
       "      <td>WZ;TZ;JB;AI;LD;57;78;58;59</td>\n",
       "      <td>;;;;;;;;</td>\n",
       "      <td>26;21;20;19;14;29;29;28;14</td>\n",
       "      <td>;;;;;;;;</td>\n",
       "      <td>WBSector;WBSector;WBSector;WBSector;WBSector;W...</td>\n",
       "    </tr>\n",
       "  </tbody>\n",
       "</table>\n",
       "</div>"
      ],
      "text/plain": [
       "                      sector-code     sector              sector-percentage  \\\n",
       "0                              FY        NaN                            100   \n",
       "1                              TH        NaN                            100   \n",
       "2                              AC        NaN                            100   \n",
       "3                              AI        NaN                            100   \n",
       "4                              AL        NaN                            100   \n",
       "5                              TY        NaN                            100   \n",
       "6                              TH        NaN                            100   \n",
       "7                              AA        NaN                            100   \n",
       "8                              WW        NaN                            100   \n",
       "9                              AL        NaN                            100   \n",
       "10                             PT        NaN                            100   \n",
       "11                             AA        NaN                            100   \n",
       "12                             EE        NaN                            100   \n",
       "13                             AI        NaN                            100   \n",
       "14                             AQ        NaN                            100   \n",
       "15              TV;TA;47;39;49;78      ;;;;;              20;80;33;33;17;17   \n",
       "16     JA;BC;FB;WC;67;63;69;93;59   ;;;;;;;;       88;10;1;1;25;25;24;13;13   \n",
       "17  BC;AH;AJ;YA;AB;79;58;45;78;59  ;;;;;;;;;  32;23;19;16;10;25;25;24;13;13   \n",
       "18  BC;JB;YZ;BH;FA;25;27;40;28;56  ;;;;;;;;;     75;10;5;5;5;29;29;14;14;14   \n",
       "19        AI;WZ;BC;BH;85;78;79;77    ;;;;;;;         75;10;10;5;29;29;28;14   \n",
       "20              JB;TA;56;78;76;58      ;;;;;              50;50;33;33;17;17   \n",
       "21     CT;BC;CA;CD;25;30;39;34;40   ;;;;;;;;      65;23;10;2;25;25;24;13;13   \n",
       "22                 BC;49;39;25;28       ;;;;                100;33;33;17;17   \n",
       "23           BC;BH;27;25;30;59;50     ;;;;;;            96;4;33;17;17;17;16   \n",
       "24     WZ;BH;TA;BC;71;74;73;84;83   ;;;;;;;;      40;35;24;1;25;25;24;13;13   \n",
       "25                       FD;44;58         ;;                      100;50;50   \n",
       "26        LD;WZ;TZ;YZ;BC;40;39;44    ;;;;;;;         30;27;25;13;5;40;40;20   \n",
       "27                       BC;BH;25         ;;                      90;10;100   \n",
       "28  BZ;AZ;JA;WB;JB;64;52;78;67;84  ;;;;;;;;;    68;16;12;3;1;25;25;24;13;13   \n",
       "29     WZ;TZ;JB;AI;LD;57;78;58;59   ;;;;;;;;     26;21;20;19;14;29;29;28;14   \n",
       "\n",
       "   sector-vocabulary                             sector-vocabulary-code  \n",
       "0                NaN                                           WBSector  \n",
       "1                NaN                                           WBSector  \n",
       "2                NaN                                           WBSector  \n",
       "3                NaN                                           WBSector  \n",
       "4                NaN                                           WBSector  \n",
       "5                NaN                                           WBSector  \n",
       "6                NaN                                           WBSector  \n",
       "7                NaN                                           WBSector  \n",
       "8                NaN                                           WBSector  \n",
       "9                NaN                                           WBSector  \n",
       "10               NaN                                           WBSector  \n",
       "11               NaN                                           WBSector  \n",
       "12               NaN                                           WBSector  \n",
       "13               NaN                                           WBSector  \n",
       "14               NaN                                           WBSector  \n",
       "15             ;;;;;  WBSector;WBSector;WBTheme;WBTheme;WBTheme;WBTheme  \n",
       "16          ;;;;;;;;  WBSector;WBSector;WBSector;WBSector;WBTheme;WB...  \n",
       "17         ;;;;;;;;;  WBSector;WBSector;WBSector;WBSector;WBSector;W...  \n",
       "18         ;;;;;;;;;  WBSector;WBSector;WBSector;WBSector;WBSector;W...  \n",
       "19           ;;;;;;;  WBSector;WBSector;WBSector;WBSector;WBTheme;WB...  \n",
       "20             ;;;;;  WBSector;WBSector;WBTheme;WBTheme;WBTheme;WBTheme  \n",
       "21          ;;;;;;;;  WBSector;WBSector;WBSector;WBSector;WBTheme;WB...  \n",
       "22              ;;;;           WBSector;WBTheme;WBTheme;WBTheme;WBTheme  \n",
       "23            ;;;;;;  WBSector;WBSector;WBTheme;WBTheme;WBTheme;WBTh...  \n",
       "24          ;;;;;;;;  WBSector;WBSector;WBSector;WBSector;WBTheme;WB...  \n",
       "25                ;;                           WBSector;WBTheme;WBTheme  \n",
       "26           ;;;;;;;  WBSector;WBSector;WBSector;WBSector;WBSector;W...  \n",
       "27                ;;                          WBSector;WBSector;WBTheme  \n",
       "28         ;;;;;;;;;  WBSector;WBSector;WBSector;WBSector;WBSector;W...  \n",
       "29          ;;;;;;;;  WBSector;WBSector;WBSector;WBSector;WBSector;W...  "
      ]
     },
     "execution_count": 9,
     "metadata": {},
     "output_type": "execute_result"
    }
   ],
   "source": [
    "wbg_rows.loc[:, 'sector-code':'sector-vocabulary-code']"
   ]
  },
  {
   "cell_type": "markdown",
   "metadata": {},
   "source": [
    "Looks like the first 15 rows have no sector data, which is of no use to us. The last 15 rows have only WBSector or WBTheme as a sector vocabulary, which is not terribly useful to us at this point. We can drop these 30 rows from our data."
   ]
  },
  {
   "cell_type": "code",
   "execution_count": 10,
   "metadata": {},
   "outputs": [
    {
     "data": {
      "text/plain": [
       "reporting-org\n",
       "B&MGF               9579\n",
       "DEVCO              67158\n",
       "DFID               36706\n",
       "GAC                 4476\n",
       "Global Fund         1100\n",
       "MFA Netherlands     7730\n",
       "Sida               85601\n",
       "World Bank          3035\n",
       "Name: iati-identifier, dtype: int64"
      ]
     },
     "execution_count": 10,
     "metadata": {},
     "output_type": "execute_result"
    }
   ],
   "source": [
    "data.drop(data[data['reporting-org'] == 'World Bank Group'].index, inplace=True)\n",
    "data.groupby(['reporting-org'])['iati-identifier'].count()"
   ]
  },
  {
   "cell_type": "markdown",
   "metadata": {},
   "source": [
    "Great. We will also want to remove any other rows that don't contain OECD as a sector vocabulary. \n",
    "\n",
    "Let's check how each donor has coded their sectors and sector vocabularies in their data by printing a quick sample of rows from each donor.   "
   ]
  },
  {
   "cell_type": "code",
   "execution_count": 11,
   "metadata": {},
   "outputs": [
    {
     "name": "stdout",
     "output_type": "stream",
     "text": [
      "B&MGF\n",
      "\n",
      "  sector-code                          sector sector-percentage  \\\n",
      "0       12250      Infectious disease control               100   \n",
      "1       12250      Infectious disease control               100   \n",
      "2       13030                 Family planning               100   \n",
      "3       13040  STD control including HIV/AIDS               100   \n",
      "\n",
      "  sector-vocabulary sector-vocabulary-code  \n",
      "0               NaN                      1  \n",
      "1               NaN                      1  \n",
      "2               NaN                      1  \n",
      "3               NaN                      1  \n",
      "\n",
      "\n",
      "DFID\n",
      "\n",
      "                           sector-code  \\\n",
      "0                    15160;15150;13020   \n",
      "1                    15160;15150;13020   \n",
      "2                    15160;15150;13020   \n",
      "3  15170;15160;15153;15150;15110;15151   \n",
      "\n",
      "                                              sector  sector-percentage  \\\n",
      "0  ;Democratic participation and civil society;Re...           30;30;40   \n",
      "1  ;Democratic participation and civil society;Re...           30;30;40   \n",
      "2  ;Democratic participation and civil society;Re...           30;30;40   \n",
      "3  Women's equality organisations and institution...  10;10;10;10;25;35   \n",
      "\n",
      "                                   sector-vocabulary   sector-vocabulary-code  \n",
      "0  OECD Development Assistance Committee;OECD Dev...              DAC;DAC;DAC  \n",
      "1  OECD Development Assistance Committee;OECD Dev...              DAC;DAC;DAC  \n",
      "2  OECD Development Assistance Committee;OECD Dev...              DAC;DAC;DAC  \n",
      "3  OECD Development Assistance Committee;OECD Dev...  DAC;DAC;DAC;DAC;DAC;DAC  \n",
      "\n",
      "\n",
      "DEVCO\n",
      "\n",
      "  sector-code                                      sector sector-percentage  \\\n",
      "0       43040                           Rural development               NaN   \n",
      "1       33110  Trade policy and administrative management               NaN   \n",
      "2       41082                      Environmental research               NaN   \n",
      "3       15130              Legal and judicial development               NaN   \n",
      "\n",
      "  sector-vocabulary sector-vocabulary-code  \n",
      "0               NaN                      1  \n",
      "1               NaN                      1  \n",
      "2               NaN                      1  \n",
      "3               NaN                      1  \n",
      "\n",
      "\n",
      "GAC\n",
      "\n",
      "                     sector-code  \\\n",
      "0        32210;31194;31161;31120   \n",
      "1  32162;32161;32130;25010;24030   \n",
      "2                    31181;31120   \n",
      "3              13020;12220;12110   \n",
      "\n",
      "                                              sector sector-percentage  \\\n",
      "0  Mineral/mining policy and administrative manag...       25;25;25;25   \n",
      "1  Forest industries;Agro-industries;Small and me...    10;10;40;20;20   \n",
      "2  Agricultural education/training;Agricultural d...             75;25   \n",
      "3  Reproductive health care;Basic health care;Hea...          19;60;21   \n",
      "\n",
      "  sector-vocabulary sector-vocabulary-code  \n",
      "0               ;;;                1;1;1;1  \n",
      "1              ;;;;              1;1;1;1;1  \n",
      "2                 ;                    1;1  \n",
      "3                ;;                  1;1;1  \n",
      "\n",
      "\n",
      "MFA Netherlands\n",
      "\n",
      "  sector-code                                             sector  \\\n",
      "0       15170  Women's equality organisations and institutions *   \n",
      "1       15230                  Post-conflict peace-building (UN)   \n",
      "2       43010                                    Multisector aid   \n",
      "3       16010                           Social/ welfare services   \n",
      "\n",
      "  sector-percentage                      sector-vocabulary  \\\n",
      "0               NaN  OECD Development Assistance Committee   \n",
      "1               NaN  OECD Development Assistance Committee   \n",
      "2               NaN  OECD Development Assistance Committee   \n",
      "3               NaN  OECD Development Assistance Committee   \n",
      "\n",
      "  sector-vocabulary-code  \n",
      "0                    DAC  \n",
      "1                    DAC  \n",
      "2                    DAC  \n",
      "3                    DAC  \n",
      "\n",
      "\n",
      "Sida\n",
      "\n",
      "  sector-code                                   sector sector-percentage  \\\n",
      "0       72010  Material relief assistance and services               NaN   \n",
      "1       72010  Material relief assistance and services               NaN   \n",
      "2       43010                          Multisector aid               NaN   \n",
      "3       72010  Material relief assistance and services               NaN   \n",
      "\n",
      "  sector-vocabulary sector-vocabulary-code  \n",
      "0               NaN                      1  \n",
      "1               NaN                      1  \n",
      "2               NaN                      1  \n",
      "3               NaN                      1  \n",
      "\n",
      "\n",
      "Global Fund\n",
      "\n",
      "  sector-code                          sector sector-percentage  \\\n",
      "0       13040  STD control including HIV/AIDS               NaN   \n",
      "1       13040  STD control including HIV/AIDS               NaN   \n",
      "2       13040  STD control including HIV/AIDS               NaN   \n",
      "3       12262                 Malaria control               NaN   \n",
      "\n",
      "                       sector-vocabulary sector-vocabulary-code  \n",
      "0  OECD Development Assistance Committee                    DAC  \n",
      "1  OECD Development Assistance Committee                    DAC  \n",
      "2  OECD Development Assistance Committee                    DAC  \n",
      "3  OECD Development Assistance Committee                    DAC  \n",
      "\n",
      "\n",
      "World Bank\n",
      "\n",
      "                                         sector-code  \\\n",
      "0  000072;000023;000322;000211;000321;000032;0003...   \n",
      "1  000032;000811;000661;000243;000081;000322;0004...   \n",
      "2  000066;000212;000662;000021;000043;000014;0006...   \n",
      "3  000835;000834;000083;000084;000022;000725;0000...   \n",
      "\n",
      "                                              sector  \\\n",
      "0  ;;;;;;;;;;;;;;;;;;Financial policy and adminis...   \n",
      "1  ;;;;;;;;;;;;;;;;;;;;;;;;;Public finance manage...   \n",
      "2  ;;;;;;;;;;;;;;Rural development;Privatisation;...   \n",
      "3                   ;;;;;;;;Agricultural development   \n",
      "\n",
      "                                   sector-percentage  \\\n",
      "0  13;13;13;13;25;38;13;13;13;13;13;13;13;25;4;29...   \n",
      "1  22;;11;11;;11;22;11;11;11;11;11;11;22;11;22;11...   \n",
      "2    14;29;7;29;29;28;7;29;28;20;20;20;20;20;6;59;35   \n",
      "3                       7;46;53;19;100;28;28;100;100   \n",
      "\n",
      "                  sector-vocabulary  \\\n",
      "0             ;;;;;;;;;;;;;;;;;;;;;   \n",
      "1  ;;;;;;;;;;;;;;;;;;;;;;;;;;;;;;;;   \n",
      "2                  ;;;;;;;;;;;;;;;;   \n",
      "3                          ;;;;;;;;   \n",
      "\n",
      "                              sector-vocabulary-code  \n",
      "0  98;98;98;98;98;98;98;98;98;98;98;98;98;99;99;9...  \n",
      "1  98;98;98;98;98;98;98;98;98;98;98;98;98;98;98;9...  \n",
      "2    98;98;98;98;98;98;98;98;98;99;99;99;99;99;1;1;1  \n",
      "3                          98;98;98;98;98;98;98;99;1  \n",
      "\n",
      "\n"
     ]
    }
   ],
   "source": [
    "reporting_orgs = ['B&MGF', 'DFID', 'DEVCO', 'GAC', 'MFA Netherlands', 'Sida', 'Global Fund', 'World Bank']\n",
    "\n",
    "for org in reporting_orgs:\n",
    "    condition = data['reporting-org'] == org\n",
    "    rows = data[condition].reset_index()\n",
    "    print(org + '\\n')\n",
    "    print(rows.loc[0:3, 'sector-code':'sector-vocabulary-code'])\n",
    "    print('\\n')\n",
    "\n",
    "#sida_condition = data['reporting-org'] == 'Swedish International Development Agency (Sida)'\n",
    "#sida_rows = data[sida_condition].reset_index()\n",
    "#dfid_condition = data['reporting-org'] == 'Department for International Development'\n",
    "#dfid_rows = data[dfid_condition].reset_index()"
   ]
  },
  {
   "cell_type": "markdown",
   "metadata": {},
   "source": [
    "If we look at the sample rows for each donor, we see that all these donors use the IATI field *sector-vocabulary-code*. This field should be filled with 1 or 2 digit codes indicating what sector scheme (or schemes) are used to classify the sector of each IATI activity. The code for OECD sector vocabulary is '1'. \n",
    "\n",
    "It appears that some donors use the field incorrectly, and often insert the string 'DAC' to indicate use of the OECD sector scheme, rather than using '1'. However, all the donors use the field consistently, and either use '1' or 'DAC'. We could do a more thorough check that this is true, but for now we'll roll with the assumption that any row with an OECD sector tagged will also have either '1' or 'DAC' in the *sector-vocabulary-code*.\n",
    "\n",
    "To extract the rows that contain activities with OECD sectors, we'll filter our data to any rows that contain either '1' or 'DAC' in that row's value for *sector-vocabulary-code*. "
   ]
  },
  {
   "cell_type": "markdown",
   "metadata": {},
   "source": [
    "## 2. Filtering for relevant OECD Sectors"
   ]
  },
  {
   "cell_type": "markdown",
   "metadata": {},
   "source": [
    "Why are we interested in activities tagged with OECD DAC sectors?\n",
    "\n",
    "For two reasons: first, the OECD DAC sector scheme is the most utilized by donors that contribute data to IATI. Nearly all major donors tag their activities with DAC sectors - so this sector scheme offers a means to filter all the donors' data together. \n",
    "\n",
    "Second, our methodology uses DAC sectors to approximate concepts relevant to our donor funding research. Our methodology takes a \"concept of interest\", such as \"small and growing businesses and entrepreneurship\", or \"reproductive, neonatal, maternal, child, and adolescent health\" that are NOT well-defined in the OECD sector scheme, or indeed in any sector scheme. We then pick the OECD sectors that best approximate this \"concept of interest\", and look at only the IATI data tagged with those \"nearest-to-our-concept\" sectors.\n",
    "\n",
    "In this analysis the example topic of interest will be \"*entrepreneurship and small-and-growing businesses*\". There are several OECD sectors that approximate this idea, but we'll pick one: *32130 - Small and medium enterprises (SME) development*. Sectors with this tag have the text '32130' at some place in the field *sector-code*.\n",
    "\n",
    "First let's remove any rows that don't contain a reference to the OECD sector vocabulary:"
   ]
  },
  {
   "cell_type": "code",
   "execution_count": 12,
   "metadata": {},
   "outputs": [],
   "source": [
    "# Fill any NaN values in the sector-vocabulary-code field\n",
    "data['sector-vocabulary-code'] = data['sector-vocabulary-code'].fillna(value='')\n",
    "# Create two subframes, one filtered for sector-vocabulary-code containing 'DAC', one for '1', then concatenate them.\n",
    "oecd_data = pd.concat([data[data['sector-vocabulary-code'].str.contains('DAC', na=False)], \\\n",
    "                  data[data['sector-vocabulary-code'].str.contains('1', na=False)]], \\\n",
    "                 ignore_index=True, sort=False)"
   ]
  },
  {
   "cell_type": "code",
   "execution_count": 13,
   "metadata": {},
   "outputs": [
    {
     "data": {
      "text/plain": [
       "(148123, 21)"
      ]
     },
     "execution_count": 13,
     "metadata": {},
     "output_type": "execute_result"
    }
   ],
   "source": [
    "oecd_data.shape"
   ]
  },
  {
   "cell_type": "markdown",
   "metadata": {},
   "source": [
    "Great, now our *data* dataframe only contains rows that contain at least one OECD sector tag. We went from 215K rows to xxxK rows of data. Let's check that we still have a decent amount of data from all the donors: "
   ]
  },
  {
   "cell_type": "code",
   "execution_count": 14,
   "metadata": {},
   "outputs": [
    {
     "data": {
      "text/plain": [
       "reporting-org\n",
       "B&MGF               9579\n",
       "DFID               36608\n",
       "GAC                 4475\n",
       "Global Fund         1100\n",
       "MFA Netherlands     7730\n",
       "Sida               85601\n",
       "World Bank          3030\n",
       "Name: iati-identifier, dtype: int64"
      ]
     },
     "execution_count": 14,
     "metadata": {},
     "output_type": "execute_result"
    }
   ],
   "source": [
    "oecd_data.groupby(['reporting-org'])['iati-identifier'].count()"
   ]
  },
  {
   "cell_type": "code",
   "execution_count": 15,
   "metadata": {},
   "outputs": [],
   "source": [
    "sectors_of_interest = ['12110', '12181', '12182', '12191', '12220', '12230', '12240', '12250', '12261', \\\n",
    "                      '12262', '12263', '12281', '12310', '12320', '12330', '12340', '12350', '12382', \\\n",
    "                      '13010', '13020', '13030', '13040', '13081', '15170', '15180', '16063','93013']\n",
    "sectors_of_interest2 = ['13010', '13020', '13030', '13040', '13081']\n",
    "sector_data = pd.DataFrame()\n",
    "for sector in sectors_of_interest2:\n",
    "    temp = oecd_data[oecd_data['sector-code'].str.contains(sector, na=False)]\n",
    "    sector_data = pd.concat([temp, sector_data], ignore_index=True, sort=False)"
   ]
  },
  {
   "cell_type": "code",
   "execution_count": 16,
   "metadata": {},
   "outputs": [
    {
     "data": {
      "text/plain": [
       "(9929, 21)"
      ]
     },
     "execution_count": 16,
     "metadata": {},
     "output_type": "execute_result"
    }
   ],
   "source": [
    "sector_data.shape"
   ]
  },
  {
   "cell_type": "code",
   "execution_count": 17,
   "metadata": {},
   "outputs": [
    {
     "data": {
      "text/plain": [
       "reporting-org\n",
       "B&MGF         2038\n",
       "DFID          3250\n",
       "GAC            647\n",
       "Sida          3878\n",
       "World Bank     116\n",
       "Name: iati-identifier, dtype: int64"
      ]
     },
     "execution_count": 17,
     "metadata": {},
     "output_type": "execute_result"
    }
   ],
   "source": [
    "sector_data.groupby(['reporting-org'])['iati-identifier'].count()"
   ]
  },
  {
   "cell_type": "markdown",
   "metadata": {},
   "source": [
    "Now we can see that the amount of data is greatly reduced - nearly 2K rows where we started with 215K. \n",
    "\n",
    "We also see that some donors had *no* data related to DAC sector 32130 - only 4 of our original 8 sectors remain. This is problematic, but we'll address it later.\n",
    "\n",
    "We can even have a quick, dirty look at the sums of funding commitments to this OECD sector from each of the three donors - though this comparison isn't necessarily valid yet, for reasons we'll see..."
   ]
  },
  {
   "cell_type": "code",
   "execution_count": 18,
   "metadata": {},
   "outputs": [
    {
     "data": {
      "text/plain": [
       "reporting-org\n",
       "B&MGF          7.397211\n",
       "DFID          25.128330\n",
       "GAC           11.243735\n",
       "Sida           2.478802\n",
       "World Bank    13.854913\n",
       "Name: commitment-in-billions, dtype: float64"
      ]
     },
     "execution_count": 18,
     "metadata": {},
     "output_type": "execute_result"
    }
   ],
   "source": [
    "sector_data['commitment-in-billions'] = sector_data.apply(lambda row: row['total-Commitment'] / 1000000000, axis=1)\n",
    "sector_data.groupby(['reporting-org'])['commitment-in-billions'].sum()"
   ]
  },
  {
   "cell_type": "markdown",
   "metadata": {},
   "source": [
    "Keep in mind that the different donors may use different currencies - for instance, DFID uses GBP, Sida uses SEK, and the World Bank uses USD.\n",
    "\n",
    "However, we are comparing totals over different time periods, which isn't valid. Additionally, some activities' funding commitments are only *partially* commited to the sector of interest. We need to restrict the data to a time window of analysis, and account for any partial funding commitments.\n",
    "\n",
    "Last thing - to keep the data clean, we'll delete the *commitment-in-billions* field we just created."
   ]
  },
  {
   "cell_type": "code",
   "execution_count": 19,
   "metadata": {},
   "outputs": [],
   "source": [
    "sector_data = sector_data.drop(['commitment-in-billions'], axis=1).reset_index()\n",
    "sector_data = sector_data.drop(['index'], axis=1)"
   ]
  },
  {
   "cell_type": "markdown",
   "metadata": {},
   "source": [
    "## 3. Choosing a timeframe for analysis and scaling the commitments"
   ]
  },
  {
   "cell_type": "markdown",
   "metadata": {},
   "source": [
    "We now have donor commitments to our 'concept of interest' as approximated by one or more OECD DAC sectors. However, the funding totals above sum *all the funding* from each donor over the *entire history* of the donors' IATI activities. \n",
    "\n",
    "What if we only want to compare donors' commitments to our 'concept of interest' over a 'time period of interest'? For instance, what if we want donor commitments in 2017?\n",
    "\n",
    "IATI activities' lives are frequently longer than one year, and may begin in the middle of one year, and end in the middle of another. Thus, we need to determine the 'average commitment per year' of each activity, and determine whether or not they were active (and for how long, in years) during our 'time period of interest'. \n",
    "\n",
    "To this end, we have four date fields in the data: the planned start and end dates of each activity, and the actual start and end dates of each activity. However there are lots of missing values. "
   ]
  },
  {
   "cell_type": "code",
   "execution_count": 20,
   "metadata": {},
   "outputs": [
    {
     "data": {
      "text/html": [
       "<div>\n",
       "<style scoped>\n",
       "    .dataframe tbody tr th:only-of-type {\n",
       "        vertical-align: middle;\n",
       "    }\n",
       "\n",
       "    .dataframe tbody tr th {\n",
       "        vertical-align: top;\n",
       "    }\n",
       "\n",
       "    .dataframe thead th {\n",
       "        text-align: right;\n",
       "    }\n",
       "</style>\n",
       "<table border=\"1\" class=\"dataframe\">\n",
       "  <thead>\n",
       "    <tr style=\"text-align: right;\">\n",
       "      <th></th>\n",
       "      <th>start-planned</th>\n",
       "      <th>end-planned</th>\n",
       "      <th>start-actual</th>\n",
       "      <th>end-actual</th>\n",
       "    </tr>\n",
       "  </thead>\n",
       "  <tbody>\n",
       "    <tr>\n",
       "      <th>0</th>\n",
       "      <td>2019-05-01</td>\n",
       "      <td>2026-05-30 00:00:00</td>\n",
       "      <td>2018-10-26</td>\n",
       "      <td>NaT</td>\n",
       "    </tr>\n",
       "    <tr>\n",
       "      <th>1</th>\n",
       "      <td>2019-05-01</td>\n",
       "      <td>2024-05-30 00:00:00</td>\n",
       "      <td>2019-05-01</td>\n",
       "      <td>NaT</td>\n",
       "    </tr>\n",
       "    <tr>\n",
       "      <th>2</th>\n",
       "      <td>2019-05-01</td>\n",
       "      <td>2026-05-30 00:00:00</td>\n",
       "      <td>2019-05-01</td>\n",
       "      <td>NaT</td>\n",
       "    </tr>\n",
       "    <tr>\n",
       "      <th>3</th>\n",
       "      <td>2012-03-01</td>\n",
       "      <td>2017-03-31 00:00:00</td>\n",
       "      <td>2013-07-11</td>\n",
       "      <td>2017-05-29</td>\n",
       "    </tr>\n",
       "    <tr>\n",
       "      <th>4</th>\n",
       "      <td>2012-03-01</td>\n",
       "      <td>2017-03-31 00:00:00</td>\n",
       "      <td>2012-03-01</td>\n",
       "      <td>2017-03-31</td>\n",
       "    </tr>\n",
       "    <tr>\n",
       "      <th>5</th>\n",
       "      <td>2013-07-11</td>\n",
       "      <td>2017-03-31 00:00:00</td>\n",
       "      <td>2013-07-11</td>\n",
       "      <td>2017-03-31</td>\n",
       "    </tr>\n",
       "  </tbody>\n",
       "</table>\n",
       "</div>"
      ],
      "text/plain": [
       "  start-planned          end-planned start-actual end-actual\n",
       "0    2019-05-01  2026-05-30 00:00:00   2018-10-26        NaT\n",
       "1    2019-05-01  2024-05-30 00:00:00   2019-05-01        NaT\n",
       "2    2019-05-01  2026-05-30 00:00:00   2019-05-01        NaT\n",
       "3    2012-03-01  2017-03-31 00:00:00   2013-07-11 2017-05-29\n",
       "4    2012-03-01  2017-03-31 00:00:00   2012-03-01 2017-03-31\n",
       "5    2013-07-11  2017-03-31 00:00:00   2013-07-11 2017-03-31"
      ]
     },
     "execution_count": 20,
     "metadata": {},
     "output_type": "execute_result"
    }
   ],
   "source": [
    "sector_data.loc[0:5, 'start-planned':'end-actual']"
   ]
  },
  {
   "cell_type": "markdown",
   "metadata": {},
   "source": [
    "To calculate the length in years of each activity, we'll need to check that data exists in these fields for these fields. To do so, we'll do a quick IF - THEN analysis of each activity, and calculate the difference in years accordingly:\n",
    "\n",
    "        IF (start-actual exists AND end-actual exists)\n",
    "        THEN difference = (end-actual - start-actual), then divide by 365.25 to arrive at years diff\n",
    "        ELIF (start-actual exists AND end-planned exists)\n",
    "        THEN difference = (end-planned - start-actual), then divide by 365.25 to arrive at years diff\n",
    "        ELIF (start-planned exists and end-planned exists)\n",
    "        THEN difference = (end-planned - start-planned), then divide by 365.25 to arrive at years diff\n",
    "        ELSE leave difference blank for now\n",
    "        \n",
    "To apply this logic to our data, we'll write  function to determine which IF scenario applies, calculate the difference in days, and then convert to a difference in years."
   ]
  },
  {
   "cell_type": "code",
   "execution_count": 21,
   "metadata": {},
   "outputs": [],
   "source": [
    "def dateDiff(dataFrame):\n",
    "    \n",
    "    for i in dataFrame.index:\n",
    "        \n",
    "        # both end-actual and start-actual are not null - i.e. they are dates\n",
    "        if not pd.isnull(dataFrame.at[i,'end-actual']) and not pd.isnull(dataFrame.at[i,'start-actual']):\n",
    "            dataFrame.at[i,'date-diff-days'] = dataFrame.at[i,'end-actual'] - dataFrame.at[i,'start-actual']\n",
    "            # if less than 365.25 days, round the duration in years to 1\n",
    "            if dataFrame.at[i,'date-diff-days'].days / 365.25 > 1:\n",
    "                dataFrame.at[i,'date-diff-years'] = dataFrame.at[i,'date-diff-days'].days / 365.25\n",
    "            else:\n",
    "                dataFrame.at[i,'date-diff-years'] = 1\n",
    "        \n",
    "        # both end-planned and start-actual are not null - i.e. they are dates\n",
    "        elif not pd.isnull(dataFrame.at[i,'end-planned']) and not pd.isnull(dataFrame.at[i,'start-actual']):\n",
    "            dataFrame.at[i,'date-diff-days'] = dataFrame.at[i,'end-planned'] - dataFrame.at[i,'start-actual']\n",
    "            # if less than 365.25 days, round the duration in years to 1\n",
    "            if dataFrame.at[i,'date-diff-days'].days / 365.25 > 1:\n",
    "                dataFrame.at[i,'date-diff-years'] = dataFrame.at[i,'date-diff-days'].days / 365.25\n",
    "            else:\n",
    "                dataFrame.at[i,'date-diff-years'] = 1\n",
    "            \n",
    "        # both end-planned and start-planned are not null - i.e. they are dates\n",
    "        elif not pd.isnull(dataFrame.at[i,'end-planned']) and not pd.isnull(dataFrame.at[i,'start-planned']):\n",
    "            dataFrame.at[i,'date-diff-days'] = dataFrame.at[i,'end-actual'] - dataFrame.at[i,'start-actual']\n",
    "            # if less than 365.25 days, round the duration in years to 1\n",
    "            if dataFrame.at[i,'date-diff-days'].days / 365.25 > 1:\n",
    "                dataFrame.at[i,'date-diff-years'] = dataFrame.at[i,'date-diff-days'].days / 365.25\n",
    "            else:\n",
    "                dataFrame.at[i,'date-diff-years'] = 1\n",
    "        \n",
    "        # otherwise, not enough info. Need to impute later\n",
    "        else:\n",
    "            dataFrame.at[i,'date-diff-days'] = pd.NaT\n",
    "            dataFrame.at[i,'date-diff-years'] = np.NaN\n",
    "\n",
    "    return dataFrame\n",
    "\n",
    "sector_data = dateDiff(sector_data)"
   ]
  },
  {
   "cell_type": "markdown",
   "metadata": {},
   "source": [
    "What does this function do? It evaluates what start and end date data that is available for each row. For data points where this data *is* available, it calculates the difference between the two dates in days, then in years. For data points without this data, these fields are left blank.\n",
    "\n",
    "Let's delete the *date-diff-days* column, as we won't need it anymore, and then let's check how many blank *date-diff-years* rows exist in our data."
   ]
  },
  {
   "cell_type": "code",
   "execution_count": 22,
   "metadata": {},
   "outputs": [],
   "source": [
    "sector_data = sector_data.drop(['date-diff-days'], axis=1)"
   ]
  },
  {
   "cell_type": "code",
   "execution_count": 23,
   "metadata": {},
   "outputs": [
    {
     "data": {
      "text/plain": [
       "0"
      ]
     },
     "execution_count": 23,
     "metadata": {},
     "output_type": "execute_result"
    }
   ],
   "source": [
    "# NOTE TO SELF\n",
    "# This code is intended to impute the avg lengths of projects for activities with insufficient date information.\n",
    "# Fix this to apply to any number of donors at a later date.\n",
    "\n",
    "# TEMP FIX - drop rows with NAN date-diff-years\n",
    "sector_data.dropna(axis=0,subset=['date-diff-years'],inplace=True)\n",
    "sector_data['date-diff-years'].isna().sum()\n",
    "\n",
    "#data_temp = data[~pd.isnull(data['date-diff-years'])]\n",
    "#dfid_years_avg = data_temp.groupby(['reporting-org'])['date-diff-years'].mean()[0]  # avg duration of DFID activities\n",
    "#sida_years_avg = data_temp.groupby(['reporting-org'])['date-diff-years'].mean()[1]  # avg duration of Sida activities\n",
    "#wbg_years_avg = data_temp.groupby(['reporting-org'])['date-diff-years'].mean()[2]   # avg duration of WBG activities\n",
    "\n",
    "#for i in data.index:\n",
    "#    if pd.isnull(data.at[i,'date-diff-years']):\n",
    "#        if data.at[i,'reporting-org'] == 'Department for International Development':\n",
    "#            data.at[i,'date-diff-years'] = dfid_years_avg\n",
    "#        elif data.at[i,'reporting-org'] == 'Swedish International Development Agency (Sida)':\n",
    "#            data.at[i,'date-diff-years'] = sida_years_avg\n",
    "#        elif data.at[i,'reporting-org'] == 'World Bank':\n",
    "#            data.at[i,'date-diff-years'] = wbg_years_avg"
   ]
  },
  {
   "cell_type": "code",
   "execution_count": 24,
   "metadata": {},
   "outputs": [
    {
     "data": {
      "text/plain": [
       "0"
      ]
     },
     "execution_count": 24,
     "metadata": {},
     "output_type": "execute_result"
    }
   ],
   "source": [
    "(sector_data['date-diff-years'] == 0).astype(int).sum(axis=0)"
   ]
  },
  {
   "cell_type": "markdown",
   "metadata": {},
   "source": [
    "Now there are no more rows without a *date-diff-years*, we can use this column to calculate each activity's *annual-Commitment*. \n",
    "\n",
    "The annual commitment is the total commitment to the project (*total-Commitment*), divided by its duration in years (*date-diff-years*). While in reality, activities' budgets are not spent uniformly over the course of the activity, this is an easy approximation that will make it easier to compare donors' commitments for certain, specific time frames of interest."
   ]
  },
  {
   "cell_type": "code",
   "execution_count": 25,
   "metadata": {
    "collapsed": true
   },
   "outputs": [],
   "source": [
    "sector_data['annual-Commitment'] = sector_data['total-Commitment'] / sector_data['date-diff-years']"
   ]
  },
  {
   "cell_type": "code",
   "execution_count": 26,
   "metadata": {},
   "outputs": [
    {
     "data": {
      "text/plain": [
       "0    0.000000e+00\n",
       "1    0.000000e+00\n",
       "2    0.000000e+00\n",
       "3    0.000000e+00\n",
       "4    5.379283e+04\n",
       "5    8.189533e+03\n",
       "6    0.000000e+00\n",
       "7    0.000000e+00\n",
       "8    0.000000e+00\n",
       "9    1.000685e+06\n",
       "Name: in-year-Commitment, dtype: float64"
      ]
     },
     "execution_count": 26,
     "metadata": {},
     "output_type": "execute_result"
    }
   ],
   "source": [
    "year = 2017\n",
    "from methods import activityInYear\n",
    "activityInYear(sector_data, year)\n",
    "sector_data['in-year-Commitment'] = sector_data['annual-Commitment'] * sector_data['date-in-year']\n",
    "sector_data['in-year-Commitment'][0:10]"
   ]
  },
  {
   "cell_type": "code",
   "execution_count": 27,
   "metadata": {
    "collapsed": true
   },
   "outputs": [],
   "source": [
    "sector_data['sector-percentage'] = sector_data['sector-percentage'].fillna(value=0)"
   ]
  },
  {
   "cell_type": "code",
   "execution_count": 28,
   "metadata": {
    "collapsed": true
   },
   "outputs": [],
   "source": [
    "sectors_of_interest = ['12110', '12181', '12182', '12191', '12220', '12230', '12240', '12250', '12261', \\\n",
    "                      '12262', '12263', '12281', '12310', '12320', '12330', '12340', '12350', '12382', \\\n",
    "                      '13010', '13020', '13030', '13040', '13081', '15170', '15180', '16063','93013']\n",
    "sectors_of_interest2 = ['13010', '13020', '13030', '13040', '13081']\n",
    "\n",
    "def sectorPercentage(target_sectors, activity_sectors, sector_percentages):\n",
    "    # target_sectors is a list of the sectors which we want included in our results\n",
    "    results = [False] * len(activity_sectors)\n",
    "    \n",
    "    for sector in target_sectors:\n",
    "        for item in activity_sectors:\n",
    "            if sector == item:\n",
    "                results[activity_sectors.index(item)] = True\n",
    "\n",
    "    sum_percents = 0\n",
    "    \n",
    "    for i in range(len(results)):\n",
    "        if results[i]:\n",
    "            if sector_percentages[i] == '':\n",
    "                sum_percents = 1\n",
    "            else:\n",
    "                sum_percents += int(sector_percentages[i])\n",
    "    return sum_percents / 100\n",
    "\n",
    "def applySectorPercentages(dataFrame, target_sectors):\n",
    "    \n",
    "    for i in dataFrame.index:\n",
    "        dataFrame.at[i, 'target-sectors-percentage'] = sectorPercentage(target_sectors, \\\n",
    "                                                        str(dataFrame.at[i, 'sector-code']).split(';'),\n",
    "                                                        str(dataFrame.at[i, 'sector-percentage']).split(';'))"
   ]
  },
  {
   "cell_type": "code",
   "execution_count": 29,
   "metadata": {},
   "outputs": [],
   "source": [
    "applySectorPercentages(sector_data, sectors_of_interest2)\n",
    "sector_data['relevant-commitment'] = sector_data['in-year-Commitment'] * sector_data['target-sectors-percentage']"
   ]
  },
  {
   "cell_type": "code",
   "execution_count": 30,
   "metadata": {},
   "outputs": [
    {
     "data": {
      "text/plain": [
       "(9929, 27)"
      ]
     },
     "execution_count": 30,
     "metadata": {},
     "output_type": "execute_result"
    }
   ],
   "source": [
    "sector_data.shape"
   ]
  },
  {
   "cell_type": "code",
   "execution_count": 31,
   "metadata": {
    "collapsed": true
   },
   "outputs": [],
   "source": [
    "sector_data.to_csv('draft_msd_for_mothers_narrow.csv', index=False)"
   ]
  }
 ],
 "metadata": {
  "kernelspec": {
   "display_name": "Python 3",
   "language": "python",
   "name": "python3"
  },
  "language_info": {
   "codemirror_mode": {
    "name": "ipython",
    "version": 3
   },
   "file_extension": ".py",
   "mimetype": "text/x-python",
   "name": "python",
   "nbconvert_exporter": "python",
   "pygments_lexer": "ipython3",
   "version": "3.6.3"
  }
 },
 "nbformat": 4,
 "nbformat_minor": 2
}
