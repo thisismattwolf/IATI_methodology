{
 "cells": [
  {
   "cell_type": "markdown",
   "metadata": {},
   "source": [
    "## Methodology for ANDE Report on Donor Contributions to SGBs   "
   ]
  },
  {
   "cell_type": "markdown",
   "metadata": {},
   "source": [
    "## 1. Preparing the data"
   ]
  },
  {
   "cell_type": "markdown",
   "metadata": {},
   "source": [
    "This notebook is intended to demonstrate the methodology used by the Devex Analytics team to arrive at total figures for funding channeled by 20 different donor institutions to the \"thematic area\" of *entrepreneurship and small-and-growing businesses*. \n",
    "\n",
    "The methodology uses data from the International Aid Transparency Initiative (IATI). The final figures in the Devex report summed the figures from this methodology, as well as other figures found through additional desk research. Thus this methodology does not represent a complete data collection process. However, the code and descriptions here illustrate well the process followed for IATI data, and the human decisions made about how to analyse that data. \n",
    "\n",
    "Note that some donors are consistent, high-quality contributors of IATI data, while others contribute less frequently or less detailed data, and others do not contribute data at all to IATI. For donors that do *not* consistently contribute quality data to IATI, additional collection, processing, and analysis will be required."
   ]
  },
  {
   "cell_type": "code",
   "execution_count": 1,
   "metadata": {
    "collapsed": true
   },
   "outputs": [],
   "source": [
    "# Importing the needed libraries\n",
    "import pandas as pd\n",
    "import numpy as np"
   ]
  },
  {
   "cell_type": "markdown",
   "metadata": {},
   "source": [
    "Let's import the data. First - there are generally 56 columns of data in a IATI activities datafile. We only want some of them:"
   ]
  },
  {
   "cell_type": "code",
   "execution_count": 2,
   "metadata": {
    "collapsed": true
   },
   "outputs": [],
   "source": [
    "iati_fields = ['iati-identifier','reporting-org','default-language', 'title','description','start-planned','end-planned',\\\n",
    "               'start-actual', 'end-actual','recipient-country-code','recipient-country', 'recipient-country-percentage',\\\n",
    "               'sector','sector-code', 'sector-percentage','sector-vocabulary','sector-vocabulary-code', 'default-currency',\\\n",
    "               'total-Commitment','total-Disbursement','total-Expenditure']\n",
    "date_fields = ['start-planned','end-planned','start-actual','end-actual']"
   ]
  },
  {
   "cell_type": "markdown",
   "metadata": {},
   "source": [
    "We'll use this to only import 21 columns relevant to our analysis.\n",
    "\n",
    "I've downloaded three large csv files from donors who are good IATI contributors - the World Bank, DFID, and Sida. In the future, we'll want to replace this with a request to IATI's API. "
   ]
  },
  {
   "cell_type": "code",
   "execution_count": 3,
   "metadata": {
    "collapsed": true
   },
   "outputs": [],
   "source": [
    "# NB! Replace the read_csv commands with IATI API query in the future\n",
    "wbg_raw = pd.read_csv('WBG_IATI_Activities_20190307.csv', low_memory=False, usecols=iati_fields, parse_dates=date_fields)\n",
    "dfid_raw = pd.read_csv('DFID_IATI_Activities_20190307.csv', low_memory=False, usecols=iati_fields, parse_dates=date_fields)\n",
    "sida_raw = pd.read_csv('SIDA_IATI_Activities_20190307.csv', low_memory=False, usecols=iati_fields, parse_dates=date_fields)"
   ]
  },
  {
   "cell_type": "markdown",
   "metadata": {},
   "source": [
    "Next we put the data together in a single Pandas dataframe."
   ]
  },
  {
   "cell_type": "code",
   "execution_count": 4,
   "metadata": {
    "collapsed": true
   },
   "outputs": [],
   "source": [
    "data = pd.concat([wbg_raw, dfid_raw, sida_raw], ignore_index=True, sort=False)"
   ]
  },
  {
   "cell_type": "markdown",
   "metadata": {},
   "source": [
    "Now let's see what the data looks like by seeing how many rows of data each donor contributed to the data:"
   ]
  },
  {
   "cell_type": "code",
   "execution_count": 5,
   "metadata": {},
   "outputs": [
    {
     "data": {
      "text/plain": [
       "reporting-org\n",
       "Department for International Development    18258\n",
       "Sweden                                      85131\n",
       "World Bank                                   3028\n",
       "World Bank Group                               30\n",
       "Name: iati-identifier, dtype: int64"
      ]
     },
     "execution_count": 5,
     "metadata": {},
     "output_type": "execute_result"
    }
   ],
   "source": [
    "data.groupby(['reporting-org'])['iati-identifier'].count()"
   ]
  },
  {
   "cell_type": "markdown",
   "metadata": {},
   "source": [
    "Sida's rows are referred to with \"Sweden\". Let's change that to *Swedish International Development Agency (Sida)* for clarity's sake."
   ]
  },
  {
   "cell_type": "code",
   "execution_count": 6,
   "metadata": {},
   "outputs": [
    {
     "data": {
      "text/plain": [
       "reporting-org\n",
       "Department for International Development           18258\n",
       "Swedish International Development Agency (Sida)    85131\n",
       "World Bank                                          3028\n",
       "World Bank Group                                      30\n",
       "Name: iati-identifier, dtype: int64"
      ]
     },
     "execution_count": 6,
     "metadata": {},
     "output_type": "execute_result"
    }
   ],
   "source": [
    "# Rename 'Sweden' to 'Swedish International Development Agency (Sida)'\n",
    "data.loc[data['reporting-org'] == 'Sweden', 'reporting-org'] = 'Swedish International Development Agency (Sida)'\n",
    "# Let's check that it worked.\n",
    "data.groupby(['reporting-org'])['iati-identifier'].count()"
   ]
  },
  {
   "cell_type": "markdown",
   "metadata": {},
   "source": [
    "It worked. There's also a curious division between 30 rows from the *World Bank Group* and the other 3028 from *World Bank*. Let's compare the two to see if there are differences and what we want to do about them. The most important fields for our analysis will be the dates, countries, sectors, and funding commitments, so we'll look at them.\n",
    "\n",
    "In particular, for this methodology to work well, we'll need rows that denote IATI activities which are tagged with OECD sector vocabulary tags. Since there are only 30 *World Bank Group*, we can quickly look at all the rows there."
   ]
  },
  {
   "cell_type": "code",
   "execution_count": 7,
   "metadata": {
    "collapsed": true
   },
   "outputs": [],
   "source": [
    "wb_condition = data['reporting-org'] == 'World Bank'\n",
    "wbg_condition = data['reporting-org'] == 'World Bank Group'\n",
    "wb_rows = data[wb_condition].reset_index()\n",
    "wbg_rows = data[wbg_condition].reset_index()"
   ]
  },
  {
   "cell_type": "code",
   "execution_count": 8,
   "metadata": {},
   "outputs": [
    {
     "data": {
      "text/html": [
       "<div>\n",
       "<style scoped>\n",
       "    .dataframe tbody tr th:only-of-type {\n",
       "        vertical-align: middle;\n",
       "    }\n",
       "\n",
       "    .dataframe tbody tr th {\n",
       "        vertical-align: top;\n",
       "    }\n",
       "\n",
       "    .dataframe thead th {\n",
       "        text-align: right;\n",
       "    }\n",
       "</style>\n",
       "<table border=\"1\" class=\"dataframe\">\n",
       "  <thead>\n",
       "    <tr style=\"text-align: right;\">\n",
       "      <th></th>\n",
       "      <th>sector-code</th>\n",
       "      <th>sector</th>\n",
       "      <th>sector-percentage</th>\n",
       "      <th>sector-vocabulary</th>\n",
       "      <th>sector-vocabulary-code</th>\n",
       "    </tr>\n",
       "  </thead>\n",
       "  <tbody>\n",
       "    <tr>\n",
       "      <th>0</th>\n",
       "      <td>FY</td>\n",
       "      <td>NaN</td>\n",
       "      <td>100</td>\n",
       "      <td>NaN</td>\n",
       "      <td>WBSector</td>\n",
       "    </tr>\n",
       "    <tr>\n",
       "      <th>1</th>\n",
       "      <td>TH</td>\n",
       "      <td>NaN</td>\n",
       "      <td>100</td>\n",
       "      <td>NaN</td>\n",
       "      <td>WBSector</td>\n",
       "    </tr>\n",
       "    <tr>\n",
       "      <th>2</th>\n",
       "      <td>AC</td>\n",
       "      <td>NaN</td>\n",
       "      <td>100</td>\n",
       "      <td>NaN</td>\n",
       "      <td>WBSector</td>\n",
       "    </tr>\n",
       "    <tr>\n",
       "      <th>3</th>\n",
       "      <td>AI</td>\n",
       "      <td>NaN</td>\n",
       "      <td>100</td>\n",
       "      <td>NaN</td>\n",
       "      <td>WBSector</td>\n",
       "    </tr>\n",
       "    <tr>\n",
       "      <th>4</th>\n",
       "      <td>AL</td>\n",
       "      <td>NaN</td>\n",
       "      <td>100</td>\n",
       "      <td>NaN</td>\n",
       "      <td>WBSector</td>\n",
       "    </tr>\n",
       "    <tr>\n",
       "      <th>5</th>\n",
       "      <td>TY</td>\n",
       "      <td>NaN</td>\n",
       "      <td>100</td>\n",
       "      <td>NaN</td>\n",
       "      <td>WBSector</td>\n",
       "    </tr>\n",
       "    <tr>\n",
       "      <th>6</th>\n",
       "      <td>TH</td>\n",
       "      <td>NaN</td>\n",
       "      <td>100</td>\n",
       "      <td>NaN</td>\n",
       "      <td>WBSector</td>\n",
       "    </tr>\n",
       "    <tr>\n",
       "      <th>7</th>\n",
       "      <td>AA</td>\n",
       "      <td>NaN</td>\n",
       "      <td>100</td>\n",
       "      <td>NaN</td>\n",
       "      <td>WBSector</td>\n",
       "    </tr>\n",
       "    <tr>\n",
       "      <th>8</th>\n",
       "      <td>WW</td>\n",
       "      <td>NaN</td>\n",
       "      <td>100</td>\n",
       "      <td>NaN</td>\n",
       "      <td>WBSector</td>\n",
       "    </tr>\n",
       "    <tr>\n",
       "      <th>9</th>\n",
       "      <td>AL</td>\n",
       "      <td>NaN</td>\n",
       "      <td>100</td>\n",
       "      <td>NaN</td>\n",
       "      <td>WBSector</td>\n",
       "    </tr>\n",
       "    <tr>\n",
       "      <th>10</th>\n",
       "      <td>PT</td>\n",
       "      <td>NaN</td>\n",
       "      <td>100</td>\n",
       "      <td>NaN</td>\n",
       "      <td>WBSector</td>\n",
       "    </tr>\n",
       "    <tr>\n",
       "      <th>11</th>\n",
       "      <td>AA</td>\n",
       "      <td>NaN</td>\n",
       "      <td>100</td>\n",
       "      <td>NaN</td>\n",
       "      <td>WBSector</td>\n",
       "    </tr>\n",
       "    <tr>\n",
       "      <th>12</th>\n",
       "      <td>EE</td>\n",
       "      <td>NaN</td>\n",
       "      <td>100</td>\n",
       "      <td>NaN</td>\n",
       "      <td>WBSector</td>\n",
       "    </tr>\n",
       "    <tr>\n",
       "      <th>13</th>\n",
       "      <td>AI</td>\n",
       "      <td>NaN</td>\n",
       "      <td>100</td>\n",
       "      <td>NaN</td>\n",
       "      <td>WBSector</td>\n",
       "    </tr>\n",
       "    <tr>\n",
       "      <th>14</th>\n",
       "      <td>AQ</td>\n",
       "      <td>NaN</td>\n",
       "      <td>100</td>\n",
       "      <td>NaN</td>\n",
       "      <td>WBSector</td>\n",
       "    </tr>\n",
       "    <tr>\n",
       "      <th>15</th>\n",
       "      <td>TV;TA;47;39;49;78</td>\n",
       "      <td>;;;;;</td>\n",
       "      <td>20;80;33;33;17;17</td>\n",
       "      <td>;;;;;</td>\n",
       "      <td>WBSector;WBSector;WBTheme;WBTheme;WBTheme;WBTheme</td>\n",
       "    </tr>\n",
       "    <tr>\n",
       "      <th>16</th>\n",
       "      <td>JA;BC;FB;WC;67;63;69;93;59</td>\n",
       "      <td>;;;;;;;;</td>\n",
       "      <td>88;10;1;1;25;25;24;13;13</td>\n",
       "      <td>;;;;;;;;</td>\n",
       "      <td>WBSector;WBSector;WBSector;WBSector;WBTheme;WB...</td>\n",
       "    </tr>\n",
       "    <tr>\n",
       "      <th>17</th>\n",
       "      <td>BC;AH;AJ;YA;AB;79;58;45;78;59</td>\n",
       "      <td>;;;;;;;;;</td>\n",
       "      <td>32;23;19;16;10;25;25;24;13;13</td>\n",
       "      <td>;;;;;;;;;</td>\n",
       "      <td>WBSector;WBSector;WBSector;WBSector;WBSector;W...</td>\n",
       "    </tr>\n",
       "    <tr>\n",
       "      <th>18</th>\n",
       "      <td>BC;JB;YZ;BH;FA;25;27;40;28;56</td>\n",
       "      <td>;;;;;;;;;</td>\n",
       "      <td>75;10;5;5;5;29;29;14;14;14</td>\n",
       "      <td>;;;;;;;;;</td>\n",
       "      <td>WBSector;WBSector;WBSector;WBSector;WBSector;W...</td>\n",
       "    </tr>\n",
       "    <tr>\n",
       "      <th>19</th>\n",
       "      <td>AI;WZ;BC;BH;85;78;79;77</td>\n",
       "      <td>;;;;;;;</td>\n",
       "      <td>75;10;10;5;29;29;28;14</td>\n",
       "      <td>;;;;;;;</td>\n",
       "      <td>WBSector;WBSector;WBSector;WBSector;WBTheme;WB...</td>\n",
       "    </tr>\n",
       "    <tr>\n",
       "      <th>20</th>\n",
       "      <td>JB;TA;56;78;76;58</td>\n",
       "      <td>;;;;;</td>\n",
       "      <td>50;50;33;33;17;17</td>\n",
       "      <td>;;;;;</td>\n",
       "      <td>WBSector;WBSector;WBTheme;WBTheme;WBTheme;WBTheme</td>\n",
       "    </tr>\n",
       "    <tr>\n",
       "      <th>21</th>\n",
       "      <td>CT;BC;CA;CD;25;30;39;34;40</td>\n",
       "      <td>;;;;;;;;</td>\n",
       "      <td>65;23;10;2;25;25;24;13;13</td>\n",
       "      <td>;;;;;;;;</td>\n",
       "      <td>WBSector;WBSector;WBSector;WBSector;WBTheme;WB...</td>\n",
       "    </tr>\n",
       "    <tr>\n",
       "      <th>22</th>\n",
       "      <td>BC;49;39;25;28</td>\n",
       "      <td>;;;;</td>\n",
       "      <td>100;33;33;17;17</td>\n",
       "      <td>;;;;</td>\n",
       "      <td>WBSector;WBTheme;WBTheme;WBTheme;WBTheme</td>\n",
       "    </tr>\n",
       "    <tr>\n",
       "      <th>23</th>\n",
       "      <td>BC;BH;27;25;30;59;50</td>\n",
       "      <td>;;;;;;</td>\n",
       "      <td>96;4;33;17;17;17;16</td>\n",
       "      <td>;;;;;;</td>\n",
       "      <td>WBSector;WBSector;WBTheme;WBTheme;WBTheme;WBTh...</td>\n",
       "    </tr>\n",
       "    <tr>\n",
       "      <th>24</th>\n",
       "      <td>WZ;BH;TA;BC;71;74;73;84;83</td>\n",
       "      <td>;;;;;;;;</td>\n",
       "      <td>40;35;24;1;25;25;24;13;13</td>\n",
       "      <td>;;;;;;;;</td>\n",
       "      <td>WBSector;WBSector;WBSector;WBSector;WBTheme;WB...</td>\n",
       "    </tr>\n",
       "    <tr>\n",
       "      <th>25</th>\n",
       "      <td>FD;44;58</td>\n",
       "      <td>;;</td>\n",
       "      <td>100;50;50</td>\n",
       "      <td>;;</td>\n",
       "      <td>WBSector;WBTheme;WBTheme</td>\n",
       "    </tr>\n",
       "    <tr>\n",
       "      <th>26</th>\n",
       "      <td>LD;WZ;TZ;YZ;BC;40;39;44</td>\n",
       "      <td>;;;;;;;</td>\n",
       "      <td>30;27;25;13;5;40;40;20</td>\n",
       "      <td>;;;;;;;</td>\n",
       "      <td>WBSector;WBSector;WBSector;WBSector;WBSector;W...</td>\n",
       "    </tr>\n",
       "    <tr>\n",
       "      <th>27</th>\n",
       "      <td>BC;BH;25</td>\n",
       "      <td>;;</td>\n",
       "      <td>90;10;100</td>\n",
       "      <td>;;</td>\n",
       "      <td>WBSector;WBSector;WBTheme</td>\n",
       "    </tr>\n",
       "    <tr>\n",
       "      <th>28</th>\n",
       "      <td>BZ;AZ;JA;WB;JB;64;52;78;67;84</td>\n",
       "      <td>;;;;;;;;;</td>\n",
       "      <td>68;16;12;3;1;25;25;24;13;13</td>\n",
       "      <td>;;;;;;;;;</td>\n",
       "      <td>WBSector;WBSector;WBSector;WBSector;WBSector;W...</td>\n",
       "    </tr>\n",
       "    <tr>\n",
       "      <th>29</th>\n",
       "      <td>WZ;TZ;JB;AI;LD;57;78;58;59</td>\n",
       "      <td>;;;;;;;;</td>\n",
       "      <td>26;21;20;19;14;29;29;28;14</td>\n",
       "      <td>;;;;;;;;</td>\n",
       "      <td>WBSector;WBSector;WBSector;WBSector;WBSector;W...</td>\n",
       "    </tr>\n",
       "  </tbody>\n",
       "</table>\n",
       "</div>"
      ],
      "text/plain": [
       "                      sector-code     sector              sector-percentage  \\\n",
       "0                              FY        NaN                            100   \n",
       "1                              TH        NaN                            100   \n",
       "2                              AC        NaN                            100   \n",
       "3                              AI        NaN                            100   \n",
       "4                              AL        NaN                            100   \n",
       "5                              TY        NaN                            100   \n",
       "6                              TH        NaN                            100   \n",
       "7                              AA        NaN                            100   \n",
       "8                              WW        NaN                            100   \n",
       "9                              AL        NaN                            100   \n",
       "10                             PT        NaN                            100   \n",
       "11                             AA        NaN                            100   \n",
       "12                             EE        NaN                            100   \n",
       "13                             AI        NaN                            100   \n",
       "14                             AQ        NaN                            100   \n",
       "15              TV;TA;47;39;49;78      ;;;;;              20;80;33;33;17;17   \n",
       "16     JA;BC;FB;WC;67;63;69;93;59   ;;;;;;;;       88;10;1;1;25;25;24;13;13   \n",
       "17  BC;AH;AJ;YA;AB;79;58;45;78;59  ;;;;;;;;;  32;23;19;16;10;25;25;24;13;13   \n",
       "18  BC;JB;YZ;BH;FA;25;27;40;28;56  ;;;;;;;;;     75;10;5;5;5;29;29;14;14;14   \n",
       "19        AI;WZ;BC;BH;85;78;79;77    ;;;;;;;         75;10;10;5;29;29;28;14   \n",
       "20              JB;TA;56;78;76;58      ;;;;;              50;50;33;33;17;17   \n",
       "21     CT;BC;CA;CD;25;30;39;34;40   ;;;;;;;;      65;23;10;2;25;25;24;13;13   \n",
       "22                 BC;49;39;25;28       ;;;;                100;33;33;17;17   \n",
       "23           BC;BH;27;25;30;59;50     ;;;;;;            96;4;33;17;17;17;16   \n",
       "24     WZ;BH;TA;BC;71;74;73;84;83   ;;;;;;;;      40;35;24;1;25;25;24;13;13   \n",
       "25                       FD;44;58         ;;                      100;50;50   \n",
       "26        LD;WZ;TZ;YZ;BC;40;39;44    ;;;;;;;         30;27;25;13;5;40;40;20   \n",
       "27                       BC;BH;25         ;;                      90;10;100   \n",
       "28  BZ;AZ;JA;WB;JB;64;52;78;67;84  ;;;;;;;;;    68;16;12;3;1;25;25;24;13;13   \n",
       "29     WZ;TZ;JB;AI;LD;57;78;58;59   ;;;;;;;;     26;21;20;19;14;29;29;28;14   \n",
       "\n",
       "   sector-vocabulary                             sector-vocabulary-code  \n",
       "0                NaN                                           WBSector  \n",
       "1                NaN                                           WBSector  \n",
       "2                NaN                                           WBSector  \n",
       "3                NaN                                           WBSector  \n",
       "4                NaN                                           WBSector  \n",
       "5                NaN                                           WBSector  \n",
       "6                NaN                                           WBSector  \n",
       "7                NaN                                           WBSector  \n",
       "8                NaN                                           WBSector  \n",
       "9                NaN                                           WBSector  \n",
       "10               NaN                                           WBSector  \n",
       "11               NaN                                           WBSector  \n",
       "12               NaN                                           WBSector  \n",
       "13               NaN                                           WBSector  \n",
       "14               NaN                                           WBSector  \n",
       "15             ;;;;;  WBSector;WBSector;WBTheme;WBTheme;WBTheme;WBTheme  \n",
       "16          ;;;;;;;;  WBSector;WBSector;WBSector;WBSector;WBTheme;WB...  \n",
       "17         ;;;;;;;;;  WBSector;WBSector;WBSector;WBSector;WBSector;W...  \n",
       "18         ;;;;;;;;;  WBSector;WBSector;WBSector;WBSector;WBSector;W...  \n",
       "19           ;;;;;;;  WBSector;WBSector;WBSector;WBSector;WBTheme;WB...  \n",
       "20             ;;;;;  WBSector;WBSector;WBTheme;WBTheme;WBTheme;WBTheme  \n",
       "21          ;;;;;;;;  WBSector;WBSector;WBSector;WBSector;WBTheme;WB...  \n",
       "22              ;;;;           WBSector;WBTheme;WBTheme;WBTheme;WBTheme  \n",
       "23            ;;;;;;  WBSector;WBSector;WBTheme;WBTheme;WBTheme;WBTh...  \n",
       "24          ;;;;;;;;  WBSector;WBSector;WBSector;WBSector;WBTheme;WB...  \n",
       "25                ;;                           WBSector;WBTheme;WBTheme  \n",
       "26           ;;;;;;;  WBSector;WBSector;WBSector;WBSector;WBSector;W...  \n",
       "27                ;;                          WBSector;WBSector;WBTheme  \n",
       "28         ;;;;;;;;;  WBSector;WBSector;WBSector;WBSector;WBSector;W...  \n",
       "29          ;;;;;;;;  WBSector;WBSector;WBSector;WBSector;WBSector;W...  "
      ]
     },
     "execution_count": 8,
     "metadata": {},
     "output_type": "execute_result"
    }
   ],
   "source": [
    "wbg_rows.loc[:, 'sector-code':'sector-vocabulary-code']"
   ]
  },
  {
   "cell_type": "markdown",
   "metadata": {},
   "source": [
    "Looks like the first 15 rows have no sector data, which is of no use to us. The last 15 rows have only WBSector or WBTheme as a sector vocabulary, which is not terribly useful to us at this point. We can drop these 30 rows from our data."
   ]
  },
  {
   "cell_type": "code",
   "execution_count": 9,
   "metadata": {},
   "outputs": [
    {
     "data": {
      "text/plain": [
       "reporting-org\n",
       "Department for International Development           18258\n",
       "Swedish International Development Agency (Sida)    85131\n",
       "World Bank                                          3028\n",
       "Name: iati-identifier, dtype: int64"
      ]
     },
     "execution_count": 9,
     "metadata": {},
     "output_type": "execute_result"
    }
   ],
   "source": [
    "data.drop(data[data['reporting-org'] == 'World Bank Group'].index, inplace=True)\n",
    "data.groupby(['reporting-org'])['iati-identifier'].count()"
   ]
  },
  {
   "cell_type": "markdown",
   "metadata": {},
   "source": [
    "Great. We will also want to remove any other rows that don't contain OECD as a sector vocabulary. Let's have a look at a few example rows from each of the three donors to see if they all have a consistent manner of encoding OECD sectors (they should, according to the IATI standard). "
   ]
  },
  {
   "cell_type": "code",
   "execution_count": 10,
   "metadata": {
    "collapsed": true
   },
   "outputs": [],
   "source": [
    "sida_condition = data['reporting-org'] == 'Swedish International Development Agency (Sida)'\n",
    "sida_rows = data[sida_condition].reset_index()\n",
    "dfid_condition = data['reporting-org'] == 'Department for International Development'\n",
    "dfid_rows = data[dfid_condition].reset_index()"
   ]
  },
  {
   "cell_type": "code",
   "execution_count": 11,
   "metadata": {},
   "outputs": [
    {
     "data": {
      "text/html": [
       "<div>\n",
       "<style scoped>\n",
       "    .dataframe tbody tr th:only-of-type {\n",
       "        vertical-align: middle;\n",
       "    }\n",
       "\n",
       "    .dataframe tbody tr th {\n",
       "        vertical-align: top;\n",
       "    }\n",
       "\n",
       "    .dataframe thead th {\n",
       "        text-align: right;\n",
       "    }\n",
       "</style>\n",
       "<table border=\"1\" class=\"dataframe\">\n",
       "  <thead>\n",
       "    <tr style=\"text-align: right;\">\n",
       "      <th></th>\n",
       "      <th>sector-code</th>\n",
       "      <th>sector</th>\n",
       "      <th>sector-percentage</th>\n",
       "      <th>sector-vocabulary</th>\n",
       "      <th>sector-vocabulary-code</th>\n",
       "    </tr>\n",
       "  </thead>\n",
       "  <tbody>\n",
       "    <tr>\n",
       "      <th>0</th>\n",
       "      <td>25010;24030;15111;24010;YZ;FL;FA;FD;BC;000021;...</td>\n",
       "      <td>Business support services and institutions;For...</td>\n",
       "      <td>37;25;25;13;38;4;29;4;25;13;13;13;13;13;13;13;...</td>\n",
       "      <td>;;;;;;;;;;;;;;;;;;;;;</td>\n",
       "      <td>1;1;1;1;99;99;99;99;99;98;98;98;98;98;98;98;98...</td>\n",
       "    </tr>\n",
       "    <tr>\n",
       "      <th>1</th>\n",
       "      <td>15114;11110;32161;32130;24030;24010;23010;1511...</td>\n",
       "      <td>;Education policy and administrative managemen...</td>\n",
       "      <td>22;12;11;11;11;11;11;11;11;34;22;11;22;11;22;1...</td>\n",
       "      <td>;;;;;;;;;;;;;;;;;;;;;;;;;;;;;;;;</td>\n",
       "      <td>1;1;1;1;1;1;1;1;99;99;99;99;99;98;98;98;98;98;...</td>\n",
       "    </tr>\n",
       "    <tr>\n",
       "      <th>2</th>\n",
       "      <td>13040;SA;HG;HF;000621;000051;000513;000062</td>\n",
       "      <td>STD control including HIV/AIDS;;;;;;;</td>\n",
       "      <td>100;7;58;35;85;15;15;85</td>\n",
       "      <td>;;;;;;;</td>\n",
       "      <td>1;99;99;99;98;98;98;98</td>\n",
       "    </tr>\n",
       "    <tr>\n",
       "      <th>3</th>\n",
       "      <td>21010;21020;43030;TI;TC;TF;000072;000711;00001...</td>\n",
       "      <td>Transport policy and administrative management...</td>\n",
       "      <td>14;64;22;66;22;12;12;37;38;37;10;12;12;12;38</td>\n",
       "      <td>;;;;;;;;;;;;;;</td>\n",
       "      <td>1;1;1;99;99;99;98;98;98;98;98;98;98;98;98</td>\n",
       "    </tr>\n",
       "    <tr>\n",
       "      <th>4</th>\n",
       "      <td>14010;14021;23010;23030;23040;LT;LM;LP;000221;...</td>\n",
       "      <td>Water resources policy and administrative mana...</td>\n",
       "      <td>2;45;2;5;46;91;3;6;25;1;47;25;10;1;25;47;1;25</td>\n",
       "      <td>;;;;;;;;;;;;;;;;;</td>\n",
       "      <td>1;1;1;1;1;99;99;99;98;98;98;98;98;98;98;98;98;98</td>\n",
       "    </tr>\n",
       "    <tr>\n",
       "      <th>5</th>\n",
       "      <td>14021;14022;WA;WC;WF;000023;000822;000072;0000...</td>\n",
       "      <td>Water supply - large systems;Sanitation - larg...</td>\n",
       "      <td>79;21;14;72;14;28;28;40;28;15;60;100;15;100;60...</td>\n",
       "      <td>;;;;;;;;;;;;;;;;;</td>\n",
       "      <td>1;1;99;99;99;98;98;98;98;98;98;98;98;98;98;98;...</td>\n",
       "    </tr>\n",
       "  </tbody>\n",
       "</table>\n",
       "</div>"
      ],
      "text/plain": [
       "                                         sector-code  \\\n",
       "0  25010;24030;15111;24010;YZ;FL;FA;FD;BC;000021;...   \n",
       "1  15114;11110;32161;32130;24030;24010;23010;1511...   \n",
       "2         13040;SA;HG;HF;000621;000051;000513;000062   \n",
       "3  21010;21020;43030;TI;TC;TF;000072;000711;00001...   \n",
       "4  14010;14021;23010;23030;23040;LT;LM;LP;000221;...   \n",
       "5  14021;14022;WA;WC;WF;000023;000822;000072;0000...   \n",
       "\n",
       "                                              sector  \\\n",
       "0  Business support services and institutions;For...   \n",
       "1  ;Education policy and administrative managemen...   \n",
       "2              STD control including HIV/AIDS;;;;;;;   \n",
       "3  Transport policy and administrative management...   \n",
       "4  Water resources policy and administrative mana...   \n",
       "5  Water supply - large systems;Sanitation - larg...   \n",
       "\n",
       "                                   sector-percentage  \\\n",
       "0  37;25;25;13;38;4;29;4;25;13;13;13;13;13;13;13;...   \n",
       "1  22;12;11;11;11;11;11;11;11;34;22;11;22;11;22;1...   \n",
       "2                            100;7;58;35;85;15;15;85   \n",
       "3       14;64;22;66;22;12;12;37;38;37;10;12;12;12;38   \n",
       "4      2;45;2;5;46;91;3;6;25;1;47;25;10;1;25;47;1;25   \n",
       "5  79;21;14;72;14;28;28;40;28;15;60;100;15;100;60...   \n",
       "\n",
       "                  sector-vocabulary  \\\n",
       "0             ;;;;;;;;;;;;;;;;;;;;;   \n",
       "1  ;;;;;;;;;;;;;;;;;;;;;;;;;;;;;;;;   \n",
       "2                           ;;;;;;;   \n",
       "3                    ;;;;;;;;;;;;;;   \n",
       "4                 ;;;;;;;;;;;;;;;;;   \n",
       "5                 ;;;;;;;;;;;;;;;;;   \n",
       "\n",
       "                              sector-vocabulary-code  \n",
       "0  1;1;1;1;99;99;99;99;99;98;98;98;98;98;98;98;98...  \n",
       "1  1;1;1;1;1;1;1;1;99;99;99;99;99;98;98;98;98;98;...  \n",
       "2                             1;99;99;99;98;98;98;98  \n",
       "3          1;1;1;99;99;99;98;98;98;98;98;98;98;98;98  \n",
       "4   1;1;1;1;1;99;99;99;98;98;98;98;98;98;98;98;98;98  \n",
       "5  1;1;99;99;99;98;98;98;98;98;98;98;98;98;98;98;...  "
      ]
     },
     "execution_count": 11,
     "metadata": {},
     "output_type": "execute_result"
    }
   ],
   "source": [
    "wb_rows.loc[0:5, 'sector-code':'sector-vocabulary-code']"
   ]
  },
  {
   "cell_type": "markdown",
   "metadata": {},
   "source": [
    "It appears that the World Bank rows of data have no data in *sector-vocabulary*, but have a semi-colon delimited list of sector vocabulary codes in the *sector-vocabulary-code* field. Interestingly, the Bank tags its activities with both OECD and WB sector vocabularies: \n",
    "\n",
    "<p>'1' indicates an OECD vocabulary sector.\n",
    "<p>'99' indicates a WB vocabulary sector.\n",
    "<p>'98' indicates a WB vocabulary theme.\n",
    "\n",
    "More info on sector vocabulary codes and their meanings can be found in IATI's codelists. For our purposes, we are interested in OECD sectors. We'll come back to this later. Let's check the Sida and DFID data."
   ]
  },
  {
   "cell_type": "code",
   "execution_count": 12,
   "metadata": {},
   "outputs": [
    {
     "data": {
      "text/html": [
       "<div>\n",
       "<style scoped>\n",
       "    .dataframe tbody tr th:only-of-type {\n",
       "        vertical-align: middle;\n",
       "    }\n",
       "\n",
       "    .dataframe tbody tr th {\n",
       "        vertical-align: top;\n",
       "    }\n",
       "\n",
       "    .dataframe thead th {\n",
       "        text-align: right;\n",
       "    }\n",
       "</style>\n",
       "<table border=\"1\" class=\"dataframe\">\n",
       "  <thead>\n",
       "    <tr style=\"text-align: right;\">\n",
       "      <th></th>\n",
       "      <th>sector-code</th>\n",
       "      <th>sector</th>\n",
       "      <th>sector-percentage</th>\n",
       "      <th>sector-vocabulary</th>\n",
       "      <th>sector-vocabulary-code</th>\n",
       "    </tr>\n",
       "  </thead>\n",
       "  <tbody>\n",
       "    <tr>\n",
       "      <th>0</th>\n",
       "      <td>72010</td>\n",
       "      <td>Material relief assistance and services</td>\n",
       "      <td>100</td>\n",
       "      <td>NaN</td>\n",
       "      <td>1</td>\n",
       "    </tr>\n",
       "    <tr>\n",
       "      <th>1</th>\n",
       "      <td>72010</td>\n",
       "      <td>Material relief assistance and services</td>\n",
       "      <td>100</td>\n",
       "      <td>NaN</td>\n",
       "      <td>1</td>\n",
       "    </tr>\n",
       "    <tr>\n",
       "      <th>2</th>\n",
       "      <td>72010</td>\n",
       "      <td>Material relief assistance and services</td>\n",
       "      <td>100</td>\n",
       "      <td>NaN</td>\n",
       "      <td>1</td>\n",
       "    </tr>\n",
       "    <tr>\n",
       "      <th>3</th>\n",
       "      <td>13040</td>\n",
       "      <td>STD control including HIV/AIDS</td>\n",
       "      <td>100</td>\n",
       "      <td>NaN</td>\n",
       "      <td>1</td>\n",
       "    </tr>\n",
       "    <tr>\n",
       "      <th>4</th>\n",
       "      <td>15150</td>\n",
       "      <td>Democratic participation and civil society</td>\n",
       "      <td>100</td>\n",
       "      <td>NaN</td>\n",
       "      <td>1</td>\n",
       "    </tr>\n",
       "    <tr>\n",
       "      <th>5</th>\n",
       "      <td>43040</td>\n",
       "      <td>Rural development</td>\n",
       "      <td>100</td>\n",
       "      <td>NaN</td>\n",
       "      <td>1</td>\n",
       "    </tr>\n",
       "  </tbody>\n",
       "</table>\n",
       "</div>"
      ],
      "text/plain": [
       "  sector-code                                      sector sector-percentage  \\\n",
       "0       72010     Material relief assistance and services               100   \n",
       "1       72010     Material relief assistance and services               100   \n",
       "2       72010     Material relief assistance and services               100   \n",
       "3       13040              STD control including HIV/AIDS               100   \n",
       "4       15150  Democratic participation and civil society               100   \n",
       "5       43040                           Rural development               100   \n",
       "\n",
       "  sector-vocabulary sector-vocabulary-code  \n",
       "0               NaN                      1  \n",
       "1               NaN                      1  \n",
       "2               NaN                      1  \n",
       "3               NaN                      1  \n",
       "4               NaN                      1  \n",
       "5               NaN                      1  "
      ]
     },
     "execution_count": 12,
     "metadata": {},
     "output_type": "execute_result"
    }
   ],
   "source": [
    "sida_rows.loc[0:5, 'sector-code':'sector-vocabulary-code']"
   ]
  },
  {
   "cell_type": "markdown",
   "metadata": {},
   "source": [
    "Sida's data is simple - one OECD sector per activity. "
   ]
  },
  {
   "cell_type": "code",
   "execution_count": 13,
   "metadata": {},
   "outputs": [
    {
     "data": {
      "text/html": [
       "<div>\n",
       "<style scoped>\n",
       "    .dataframe tbody tr th:only-of-type {\n",
       "        vertical-align: middle;\n",
       "    }\n",
       "\n",
       "    .dataframe tbody tr th {\n",
       "        vertical-align: top;\n",
       "    }\n",
       "\n",
       "    .dataframe thead th {\n",
       "        text-align: right;\n",
       "    }\n",
       "</style>\n",
       "<table border=\"1\" class=\"dataframe\">\n",
       "  <thead>\n",
       "    <tr style=\"text-align: right;\">\n",
       "      <th></th>\n",
       "      <th>sector-code</th>\n",
       "      <th>sector</th>\n",
       "      <th>sector-percentage</th>\n",
       "      <th>sector-vocabulary</th>\n",
       "      <th>sector-vocabulary-code</th>\n",
       "    </tr>\n",
       "  </thead>\n",
       "  <tbody>\n",
       "    <tr>\n",
       "      <th>0</th>\n",
       "      <td>11330</td>\n",
       "      <td>Vocational training</td>\n",
       "      <td>NaN</td>\n",
       "      <td>OECD Development Assistance Committee</td>\n",
       "      <td>DAC</td>\n",
       "    </tr>\n",
       "    <tr>\n",
       "      <th>1</th>\n",
       "      <td>72010</td>\n",
       "      <td>Material relief assistance and services</td>\n",
       "      <td>NaN</td>\n",
       "      <td>OECD Development Assistance Committee</td>\n",
       "      <td>DAC</td>\n",
       "    </tr>\n",
       "    <tr>\n",
       "      <th>2</th>\n",
       "      <td>11330</td>\n",
       "      <td>Vocational training</td>\n",
       "      <td>NaN</td>\n",
       "      <td>OECD Development Assistance Committee</td>\n",
       "      <td>DAC</td>\n",
       "    </tr>\n",
       "    <tr>\n",
       "      <th>3</th>\n",
       "      <td>11330</td>\n",
       "      <td>Vocational training</td>\n",
       "      <td>NaN</td>\n",
       "      <td>OECD Development Assistance Committee</td>\n",
       "      <td>DAC</td>\n",
       "    </tr>\n",
       "    <tr>\n",
       "      <th>4</th>\n",
       "      <td>21020;21010</td>\n",
       "      <td>Road transport;Transport policy and administra...</td>\n",
       "      <td>52;47</td>\n",
       "      <td>OECD Development Assistance Committee;OECD Dev...</td>\n",
       "      <td>DAC;DAC</td>\n",
       "    </tr>\n",
       "    <tr>\n",
       "      <th>5</th>\n",
       "      <td>21010</td>\n",
       "      <td>Transport policy and administrative management</td>\n",
       "      <td>NaN</td>\n",
       "      <td>OECD Development Assistance Committee</td>\n",
       "      <td>DAC</td>\n",
       "    </tr>\n",
       "  </tbody>\n",
       "</table>\n",
       "</div>"
      ],
      "text/plain": [
       "   sector-code                                             sector  \\\n",
       "0        11330                                Vocational training   \n",
       "1        72010            Material relief assistance and services   \n",
       "2        11330                                Vocational training   \n",
       "3        11330                                Vocational training   \n",
       "4  21020;21010  Road transport;Transport policy and administra...   \n",
       "5        21010     Transport policy and administrative management   \n",
       "\n",
       "  sector-percentage                                  sector-vocabulary  \\\n",
       "0               NaN              OECD Development Assistance Committee   \n",
       "1               NaN              OECD Development Assistance Committee   \n",
       "2               NaN              OECD Development Assistance Committee   \n",
       "3               NaN              OECD Development Assistance Committee   \n",
       "4             52;47  OECD Development Assistance Committee;OECD Dev...   \n",
       "5               NaN              OECD Development Assistance Committee   \n",
       "\n",
       "  sector-vocabulary-code  \n",
       "0                    DAC  \n",
       "1                    DAC  \n",
       "2                    DAC  \n",
       "3                    DAC  \n",
       "4                DAC;DAC  \n",
       "5                    DAC  "
      ]
     },
     "execution_count": 13,
     "metadata": {},
     "output_type": "execute_result"
    }
   ],
   "source": [
    "dfid_rows.loc[0:5, 'sector-code':'sector-vocabulary-code']"
   ]
  },
  {
   "cell_type": "markdown",
   "metadata": {},
   "source": [
    "DFID's data is also fairly simple - though row 4 demonstrates that some activities have percentage splits between more than one OECD sector. "
   ]
  },
  {
   "cell_type": "markdown",
   "metadata": {},
   "source": [
    "## 2. Filtering for relevant OECD Sectors"
   ]
  },
  {
   "cell_type": "markdown",
   "metadata": {},
   "source": [
    "The methodology is based on a fairly simple concept that can be customized and made more complex fairly easily. In this notebook, we'll illustrate a simplistic, but easy-to-implement approach.\n",
    "\n",
    "The methodology identifies OECD DAC CRS 5-digit sectors of relevance to the topic of interest, and filters IATI data for these sectors. This generally works well, as nearly all IATI contributors tag their IATI activities data with the OECD sectors. As a reminder, in this analysis the topic of interest was \"*entrepreneurship and small-and-growing businesses*\". There are several OECD sectors that approximate this idea, but we'll pick one: *32130 - Small and medium enterprises (SME) development*. \n",
    "\n",
    "First let's remove any rows that don't contain a reference to the OECD sector vocabulary:"
   ]
  },
  {
   "cell_type": "code",
   "execution_count": 14,
   "metadata": {
    "collapsed": true
   },
   "outputs": [],
   "source": [
    "wb_oecd_rows = wb_rows[wb_rows['sector-vocabulary-code'].str.contains(\"1\", na=False)]\n",
    "dfid_oecd_rows = dfid_rows[dfid_rows['sector-vocabulary-code'].str.contains(\"DAC\", na=False)]\n",
    "sida_oecd_rows = sida_rows[sida_rows['sector-vocabulary-code'].str.contains(\"1\", na=False)]"
   ]
  },
  {
   "cell_type": "code",
   "execution_count": 15,
   "metadata": {},
   "outputs": [
    {
     "data": {
      "text/plain": [
       "(106297, 22)"
      ]
     },
     "execution_count": 15,
     "metadata": {},
     "output_type": "execute_result"
    }
   ],
   "source": [
    "data = pd.concat([wb_oecd_rows, dfid_oecd_rows, sida_oecd_rows])\n",
    "data.shape"
   ]
  },
  {
   "cell_type": "markdown",
   "metadata": {},
   "source": [
    "Great, now our *data* dataframe only contains rows that contain at least one OECD sector tag. We still have the majority of the data, since all three donors use OECD sector tags quite consistently.\n",
    "\n",
    "Now we follow a similar process to reduce the rows to only those that contain reference to OECD sector 32130:"
   ]
  },
  {
   "cell_type": "code",
   "execution_count": 16,
   "metadata": {},
   "outputs": [
    {
     "data": {
      "text/plain": [
       "(1267, 22)"
      ]
     },
     "execution_count": 16,
     "metadata": {},
     "output_type": "execute_result"
    }
   ],
   "source": [
    "sector_of_interest = '32130'\n",
    "data = data[data['sector-code'].str.contains(sector_of_interest, na=False)]\n",
    "data.shape"
   ]
  },
  {
   "cell_type": "markdown",
   "metadata": {},
   "source": [
    "Now we can see that the amount of data is greatly reduced - just over 1% of our original data remains. \n",
    "\n",
    "We can even have a quick, dirty look at the sums of funding commitments to this OECD sector from each of the three donors - though this comparison isn't necessarily valid yet, for reasons we'll see..."
   ]
  },
  {
   "cell_type": "code",
   "execution_count": 17,
   "metadata": {},
   "outputs": [
    {
     "data": {
      "text/plain": [
       "reporting-org\n",
       "Department for International Development            6.032279\n",
       "Swedish International Development Agency (Sida)     0.341563\n",
       "World Bank                                         16.938528\n",
       "Name: commitment-in-billions, dtype: float64"
      ]
     },
     "execution_count": 17,
     "metadata": {},
     "output_type": "execute_result"
    }
   ],
   "source": [
    "data['commitment-in-billions'] = data.apply(lambda row: row['total-Commitment'] / 1000000000, axis=1)\n",
    "data.groupby(['reporting-org'])['commitment-in-billions'].sum()"
   ]
  },
  {
   "cell_type": "markdown",
   "metadata": {},
   "source": [
    "Interesting. Keep in mind that the three donors use different currencies - GBP, SEK, and USD, respectively. So across all DFID's IATI data tagged with OECD sector 32130 there are funding commitments of 6.03 billion GBP. Similarly, 341 million SEK for Sida, and 16.9 billion USD for the World Bank Group.\n",
    "\n",
    "However, we are comparing totals over different time periods, which isn't valid. Additionally, some activities' funding commitments are only *partially* commited to the sector of interest. We need to restrict the data to a time window of analysis, and account for any partial funding commitments.\n",
    "\n",
    "Last thing - to keep the data clean, we'll delete the *commitment-in-billions* field we just created."
   ]
  },
  {
   "cell_type": "code",
   "execution_count": 18,
   "metadata": {},
   "outputs": [],
   "source": [
    "data = data.drop(['commitment-in-billions'], axis=1).reset_index()"
   ]
  },
  {
   "cell_type": "markdown",
   "metadata": {},
   "source": [
    "## 3. Choosing a timeframe for analysis and scaling the commitments"
   ]
  },
  {
   "cell_type": "markdown",
   "metadata": {},
   "source": [
    "We want to commit funding committed to IATI activities in our area of interest for a single year. IATI activities have *total-commitment* as a field that indicates the total amount of funding committed by a donor to that activity over its life. However, activities' lives are frequently more than one year, and may begin in the middle of one year, and end in the middle of another. \n",
    "\n",
    "Thus, we need to determine the 'average commitment per year' of each activity, and determine whether or not they were active (and for how long, in years) during our timframe of interest. \n",
    "\n",
    "To this end, we have four date fields in the data: the planned start and end dates of each activity, and the actual start and end dates of each activity. However there are lots of missing values. "
   ]
  },
  {
   "cell_type": "code",
   "execution_count": 19,
   "metadata": {},
   "outputs": [
    {
     "data": {
      "text/html": [
       "<div>\n",
       "<style scoped>\n",
       "    .dataframe tbody tr th:only-of-type {\n",
       "        vertical-align: middle;\n",
       "    }\n",
       "\n",
       "    .dataframe tbody tr th {\n",
       "        vertical-align: top;\n",
       "    }\n",
       "\n",
       "    .dataframe thead th {\n",
       "        text-align: right;\n",
       "    }\n",
       "</style>\n",
       "<table border=\"1\" class=\"dataframe\">\n",
       "  <thead>\n",
       "    <tr style=\"text-align: right;\">\n",
       "      <th></th>\n",
       "      <th>start-planned</th>\n",
       "      <th>end-planned</th>\n",
       "      <th>start-actual</th>\n",
       "      <th>end-actual</th>\n",
       "    </tr>\n",
       "  </thead>\n",
       "  <tbody>\n",
       "    <tr>\n",
       "      <th>0</th>\n",
       "      <td>2018-02-28</td>\n",
       "      <td>2019-02-28</td>\n",
       "      <td>2018-03-30</td>\n",
       "      <td>NaT</td>\n",
       "    </tr>\n",
       "    <tr>\n",
       "      <th>1</th>\n",
       "      <td>2015-09-22</td>\n",
       "      <td>2022-12-31</td>\n",
       "      <td>2017-09-28</td>\n",
       "      <td>NaT</td>\n",
       "    </tr>\n",
       "    <tr>\n",
       "      <th>2</th>\n",
       "      <td>2012-03-29</td>\n",
       "      <td>2019-08-30</td>\n",
       "      <td>2013-06-11</td>\n",
       "      <td>NaT</td>\n",
       "    </tr>\n",
       "    <tr>\n",
       "      <th>3</th>\n",
       "      <td>2017-10-31</td>\n",
       "      <td>2023-12-28</td>\n",
       "      <td>2018-07-06</td>\n",
       "      <td>NaT</td>\n",
       "    </tr>\n",
       "    <tr>\n",
       "      <th>4</th>\n",
       "      <td>2010-05-27</td>\n",
       "      <td>2017-12-31</td>\n",
       "      <td>2010-12-16</td>\n",
       "      <td>2017-12-31</td>\n",
       "    </tr>\n",
       "    <tr>\n",
       "      <th>5</th>\n",
       "      <td>2017-06-15</td>\n",
       "      <td>2022-07-31</td>\n",
       "      <td>2017-07-13</td>\n",
       "      <td>NaT</td>\n",
       "    </tr>\n",
       "  </tbody>\n",
       "</table>\n",
       "</div>"
      ],
      "text/plain": [
       "  start-planned end-planned start-actual end-actual\n",
       "0    2018-02-28  2019-02-28   2018-03-30        NaT\n",
       "1    2015-09-22  2022-12-31   2017-09-28        NaT\n",
       "2    2012-03-29  2019-08-30   2013-06-11        NaT\n",
       "3    2017-10-31  2023-12-28   2018-07-06        NaT\n",
       "4    2010-05-27  2017-12-31   2010-12-16 2017-12-31\n",
       "5    2017-06-15  2022-07-31   2017-07-13        NaT"
      ]
     },
     "execution_count": 19,
     "metadata": {},
     "output_type": "execute_result"
    }
   ],
   "source": [
    "data.loc[0:5, 'start-planned':'end-actual']"
   ]
  },
  {
   "cell_type": "markdown",
   "metadata": {},
   "source": [
    "To calculate the length in years of each activity, we'll need to check that data exists in these fields for these fields. To do so, we'll do a quick IF - THEN analysis of each activity, and calculate the difference in years accordingly:\n",
    "\n",
    "        IF (start-actual exists AND end-actual exists)\n",
    "        THEN difference = (end-actual - start-actual), then divide by 365.25 to arrive at years diff\n",
    "        ELIF (start-actual exists AND end-planned exists)\n",
    "        THEN difference = (end-planned - start-actual), then divide by 365.25 to arrive at years diff\n",
    "        ELIF (start-planned exists and end-planned exists)\n",
    "        THEN difference = (end-planned - start-planned), then divide by 365.25 to arrive at years diff\n",
    "        ELSE leave difference blank for now\n",
    "        \n",
    "To apply this logic to our data, we'll write  function to determine which IF scenario applies, calculate the difference in days, and then convert to a difference in years."
   ]
  },
  {
   "cell_type": "code",
   "execution_count": 42,
   "metadata": {},
   "outputs": [],
   "source": [
    "def dateDiff(dataFrame):\n",
    "    \n",
    "    for i in dataFrame.index:\n",
    "        \n",
    "        # both end-actual and start-actual are not null - i.e. they are dates\n",
    "        if not pd.isnull(dataFrame.at[i,'end-actual']) and not pd.isnull(dataFrame.at[i,'start-actual']):\n",
    "            dataFrame.at[i,'date-diff-days'] = dataFrame.at[i,'end-actual'] - dataFrame.at[i,'start-actual']\n",
    "            # if less than 365.25 days, round the duration in years to 1\n",
    "            if dataFrame.at[i,'date-diff-days'].days / 365.25 > 1:\n",
    "                dataFrame.at[i,'date-diff-years'] = dataFrame.at[i,'date-diff-days'].days / 365.25\n",
    "            else:\n",
    "                dataFrame.at[i,'date-diff-years'] = 1\n",
    "        \n",
    "        # both end-planned and start-actual are not null - i.e. they are dates\n",
    "        elif not pd.isnull(dataFrame.at[i,'end-planned']) and not pd.isnull(dataFrame.at[i,'start-actual']):\n",
    "            dataFrame.at[i,'date-diff-days'] = dataFrame.at[i,'end-planned'] - dataFrame.at[i,'start-actual']\n",
    "            # if less than 365.25 days, round the duration in years to 1\n",
    "            if dataFrame.at[i,'date-diff-days'].days / 365.25 > 1:\n",
    "                dataFrame.at[i,'date-diff-years'] = dataFrame.at[i,'date-diff-days'].days / 365.25\n",
    "            else:\n",
    "                dataFrame.at[i,'date-diff-years'] = 1\n",
    "            \n",
    "        # both end-planned and start-planned are not null - i.e. they are dates\n",
    "        elif not pd.isnull(dataFrame.at[i,'end-planned']) and not pd.isnull(dataFrame.at[i,'start-planned']):\n",
    "            dataFrame.at[i,'date-diff-days'] = dataFrame.at[i,'end-actual'] - dataFrame.at[i,'start-actual']\n",
    "            # if less than 365.25 days, round the duration in years to 1\n",
    "            if dataFrame.at[i,'date-diff-days'].days / 365.25 > 1:\n",
    "                dataFrame.at[i,'date-diff-years'] = dataFrame.at[i,'date-diff-days'].days / 365.25\n",
    "            else:\n",
    "                dataFrame.at[i,'date-diff-years'] = 1\n",
    "        \n",
    "        # otherwise, not enough info. Need to impute later\n",
    "        else:\n",
    "            dataFrame.at[i,'date-diff-days'] = pd.NaT\n",
    "            dataFrame.at[i,'date-diff-years'] = np.NaN\n",
    "\n",
    "    return dataFrame\n",
    "\n",
    "data = dateDiff(data)"
   ]
  },
  {
   "cell_type": "markdown",
   "metadata": {},
   "source": [
    "What does this function do? It evaluates what start and end date data is available. For data points where this data *is* available, it calculates the difference between the two dates in days, then in years. For data points without this data, these fields are left blank.\n",
    "\n",
    "Let's delete the *date-diff-days* column, as we won't need it anymore, and then let's check how many blank *date-diff-years* rows exist in our data."
   ]
  },
  {
   "cell_type": "code",
   "execution_count": 43,
   "metadata": {},
   "outputs": [
    {
     "data": {
      "text/plain": [
       "1"
      ]
     },
     "execution_count": 43,
     "metadata": {},
     "output_type": "execute_result"
    }
   ],
   "source": [
    "#data = data.drop(['date-diff-days'], axis=1)\n",
    "data['date-diff-years'].isna().sum()"
   ]
  },
  {
   "cell_type": "markdown",
   "metadata": {},
   "source": [
    "So there are still 98 rows without values in *date-diff-years*. We will need to estimate these values - what we'll do is assume that for each donor, the average *date-diff-years* value is a good guess for the value missing in that donor's blank rows. "
   ]
  },
  {
   "cell_type": "code",
   "execution_count": 44,
   "metadata": {},
   "outputs": [],
   "source": [
    "data_temp = data[~pd.isnull(data['date-diff-years'])]\n",
    "dfid_years_avg = data_temp.groupby(['reporting-org'])['date-diff-years'].mean()[0]  # avg duration of DFID activities\n",
    "sida_years_avg = data_temp.groupby(['reporting-org'])['date-diff-years'].mean()[1]  # avg duration of Sida activities\n",
    "wbg_years_avg = data_temp.groupby(['reporting-org'])['date-diff-years'].mean()[2]   # avg duration of WBG activities\n",
    "\n",
    "for i in data.index:\n",
    "    if pd.isnull(data.at[i,'date-diff-years']):\n",
    "        if data.at[i,'reporting-org'] == 'Department for International Development':\n",
    "            data.at[i,'date-diff-years'] = dfid_years_avg\n",
    "        elif data.at[i,'reporting-org'] == 'Swedish International Development Agency (Sida)':\n",
    "            data.at[i,'date-diff-years'] = sida_years_avg\n",
    "        elif data.at[i,'reporting-org'] == 'World Bank':\n",
    "            data.at[i,'date-diff-years'] = wbg_years_avg"
   ]
  },
  {
   "cell_type": "markdown",
   "metadata": {},
   "source": [
    "Now there are no more rows without a *date-diff-years*, we can use this column to calculate each activity's *annual-Commitment*. \n",
    "\n",
    "The annual commitment is the total commitment to the project (*total-Commitment*), divided by its duration in years (*date-diff-years*). While in reality, activities' budgets are not spent uniformly over the course of the activity, this is an easy approximation that will make it easier to compare donors' commitments for certain, specific time frames of interest."
   ]
  },
  {
   "cell_type": "code",
   "execution_count": 45,
   "metadata": {},
   "outputs": [],
   "source": [
    "data.at[i, 'annual-Commitment'] = data.at[i, 'total-Commitment'] / data.at[i, 'date-diff-years']"
   ]
  },
  {
   "cell_type": "code",
   "execution_count": 49,
   "metadata": {},
   "outputs": [
    {
     "data": {
      "text/plain": [
       "reporting-org\n",
       "Department for International Development                    inf\n",
       "Swedish International Development Agency (Sida)    3.364024e+08\n",
       "World Bank                                         1.723712e+10\n",
       "Name: annual-Commitment, dtype: float64"
      ]
     },
     "execution_count": 49,
     "metadata": {},
     "output_type": "execute_result"
    }
   ],
   "source": [
    "data.groupby(['reporting-org'])['annual-Commitment'].sum()"
   ]
  }
 ],
 "metadata": {
  "kernelspec": {
   "display_name": "Python 3",
   "language": "python",
   "name": "python3"
  },
  "language_info": {
   "codemirror_mode": {
    "name": "ipython",
    "version": 3
   },
   "file_extension": ".py",
   "mimetype": "text/x-python",
   "name": "python",
   "nbconvert_exporter": "python",
   "pygments_lexer": "ipython3",
   "version": "3.6.3"
  }
 },
 "nbformat": 4,
 "nbformat_minor": 2
}
