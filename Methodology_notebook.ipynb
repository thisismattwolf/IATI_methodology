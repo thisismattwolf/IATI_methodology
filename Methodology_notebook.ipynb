{
 "cells": [
  {
   "cell_type": "markdown",
   "metadata": {},
   "source": [
    "## Methodology for ANDE Report on Donor Contributions to SGBs   "
   ]
  },
  {
   "cell_type": "markdown",
   "metadata": {},
   "source": [
    "This notebook is intended to demonstrate the methodology used by the Devex Analytics team to arrive at total figures for funding channeled by 20 different donor institutions to the \"thematic area\" of *entrepreneurship and small-and-growing businesses*. \n",
    "\n",
    "The methodology uses data from the International Aid Transparency Initiative (IATI). The full methodology used to create the figures in the Devex report summed the figures from this methodology, as well as other figures found through additional desk research. Thus this methodology does not represent a complete data collection process. However, the code and descriptions here illustrate well the process followed for IATI data, and the human decisions made about how to analyse that data. For donors that do *not* consistently contribute quality data to IATI, additional collection, processing, and analysis will be required."
   ]
  },
  {
   "cell_type": "code",
   "execution_count": 1,
   "metadata": {
    "collapsed": true
   },
   "outputs": [],
   "source": [
    "# Importing the needed libraries\n",
    "import pandas as pd\n",
    "import numpy as np"
   ]
  },
  {
   "cell_type": "markdown",
   "metadata": {},
   "source": [
    "Let's import the data. First - there are generally 56 columns of data in a IATI activities datafile. We only want some of them:"
   ]
  },
  {
   "cell_type": "code",
   "execution_count": 6,
   "metadata": {
    "collapsed": true
   },
   "outputs": [],
   "source": [
    "iati_fields = ['iati-identifier','reporting-org','default-language', 'title','description','start-planned','end-planned',\\\n",
    "               'start-actual', 'end-actual','recipient-country-code','recipient-country', 'recipient-country-percentage',\\\n",
    "               'sector','sector-code', 'sector-percentage','sector-vocabulary','sector-vocabulary-code', 'default-currency',\\\n",
    "               'total-Commitment','total-Disbursement','total-Expenditure']\n",
    "date_fields = ['start-planned','end-planned','start-actual','end-actual']"
   ]
  },
  {
   "cell_type": "markdown",
   "metadata": {},
   "source": [
    "We'll use this to only import 21 columns relevant to our analysis.\n",
    "\n",
    "I've downloaded three large csv files from donors who are good IATI contributors - the World Bank, DFID, and Sida. In the future, we'll want to replace this with a request to IATI's API. "
   ]
  },
  {
   "cell_type": "code",
   "execution_count": 7,
   "metadata": {},
   "outputs": [],
   "source": [
    "# NB! Replace the read_csv commands with IATI API query in the future\n",
    "wbg_raw = pd.read_csv('WBG_IATI_Activities_20190307.csv', low_memory=False, usecols=iati_fields, parse_dates=date_fields)\n",
    "dfid_raw = pd.read_csv('DFID_IATI_Activities_20190307.csv', low_memory=False, usecols=iati_fields, parse_dates=date_fields)\n",
    "sida_raw = pd.read_csv('SIDA_IATI_Activities_20190307.csv', low_memory=False, usecols=iati_fields, parse_dates=date_fields)"
   ]
  },
  {
   "cell_type": "markdown",
   "metadata": {},
   "source": [
    "Next we put the data together in a single Pandas dataframe."
   ]
  },
  {
   "cell_type": "code",
   "execution_count": 9,
   "metadata": {},
   "outputs": [],
   "source": [
    "data = pd.concat([wbg_raw,dfid_raw,sida_raw], ignore_index=True, sort=False)"
   ]
  },
  {
   "cell_type": "markdown",
   "metadata": {},
   "source": [
    "Now let's see what the data looks like by seeing how many rows of data each donor contributed to the data:"
   ]
  },
  {
   "cell_type": "code",
   "execution_count": 16,
   "metadata": {},
   "outputs": [
    {
     "data": {
      "text/plain": [
       "reporting-org\n",
       "Department for International Development    18258\n",
       "Sweden                                      85131\n",
       "World Bank                                   3028\n",
       "World Bank Group                               30\n",
       "Name: iati-identifier, dtype: int64"
      ]
     },
     "execution_count": 16,
     "metadata": {},
     "output_type": "execute_result"
    }
   ],
   "source": [
    "data.groupby(['reporting-org'])['iati-identifier'].count()"
   ]
  },
  {
   "cell_type": "markdown",
   "metadata": {},
   "source": [
    "Sida's rows are referred to with \"Sweden\". Let's change that to *Swedish International Development Agency (Sida)* for clarity's sake.\n",
    "\n",
    "There's also a curious division between 30 rows from the *World Bank Group* and the other 3028 from *World Bank*. Let's compare the two to see if there are differences and what we want to do about them. The most important fields for our analysis will be the dates, countries, sectors, and funding commitments, so we'll look at them."
   ]
  },
  {
   "cell_type": "code",
   "execution_count": 22,
   "metadata": {},
   "outputs": [],
   "source": [
    "# Rename 'Sweden' to 'Swedish International Development Agency (Sida)'\n",
    "data.loc[data['reporting-org'] == 'Sweden', 'reporting-org'] = 'Swedish International Development Agency (Sida)'\n",
    "\n",
    "for field in date_fields:\n",
    "    print()"
   ]
  }
 ],
 "metadata": {
  "kernelspec": {
   "display_name": "Python 3",
   "language": "python",
   "name": "python3"
  },
  "language_info": {
   "codemirror_mode": {
    "name": "ipython",
    "version": 3
   },
   "file_extension": ".py",
   "mimetype": "text/x-python",
   "name": "python",
   "nbconvert_exporter": "python",
   "pygments_lexer": "ipython3",
   "version": "3.6.3"
  }
 },
 "nbformat": 4,
 "nbformat_minor": 2
}
